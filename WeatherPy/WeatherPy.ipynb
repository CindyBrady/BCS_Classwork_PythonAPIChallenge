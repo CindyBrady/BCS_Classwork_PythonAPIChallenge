{
 "cells": [
  {
   "cell_type": "markdown",
   "metadata": {},
   "source": [
    "# WeatherPy\n",
    "----\n",
    "\n",
    "#### Note\n",
    "* Instructions have been included for each segment. You do not have to follow them exactly, but they are included to help you think through the steps."
   ]
  },
  {
   "cell_type": "code",
   "execution_count": 1,
   "metadata": {},
   "outputs": [],
   "source": [
    "# Observations\n",
    "# 1: Highest temperature is found at 0 latitude and as the latidude increases or decreases, temperature drops.\n",
    "# 2: Southern Hemisphere climates tend to be slightly milder than those at similar latitudes in the Northern Hemisphere.\n",
    "# 3: Latitude doesn't have a correlation or strong influence on cloudiness in either hemisphere. "
   ]
  },
  {
   "cell_type": "code",
   "execution_count": 2,
   "metadata": {
    "scrolled": true
   },
   "outputs": [],
   "source": [
    "# Dependencies and Setup\n",
    "import matplotlib.pyplot as plt\n",
    "import pandas as pd\n",
    "import numpy as np\n",
    "import requests\n",
    "import time\n",
    "import json\n",
    "import scipy.stats as st\n",
    "from scipy.stats import linregress\n",
    "\n",
    "# Import API key\n",
    "from api_keys import weather_api_key\n",
    "\n",
    "# Incorporated citipy to determine city based on latitude and longitude\n",
    "from citipy import citipy\n",
    "\n",
    "# Output File (CSV)\n",
    "output_data_file = \"output_data/cities.csv\"\n",
    "\n",
    "# Range of latitudes and longitudes\n",
    "lat_range = (-90, 90)\n",
    "lng_range = (-180, 180)\n"
   ]
  },
  {
   "cell_type": "markdown",
   "metadata": {},
   "source": [
    "## Generate Cities List"
   ]
  },
  {
   "cell_type": "code",
   "execution_count": 3,
   "metadata": {},
   "outputs": [
    {
     "name": "stdout",
     "output_type": "stream",
     "text": [
      "663\n",
      "663\n"
     ]
    }
   ],
   "source": [
    "# List for holding lat_lngs and cities\n",
    "lat_lngs = []\n",
    "cities = []\n",
    "countries = []\n",
    "\n",
    "# Create a set of random lat and lng combinations\n",
    "lats = np.random.uniform(low=-90.000, high=90.000, size=1500)\n",
    "lngs = np.random.uniform(low=-180.000, high=180.000, size=1500)\n",
    "lat_lngs = zip(lats, lngs)\n",
    "\n",
    "# Identify nearest city for each lat, lng combination\n",
    "for lat_lng in lat_lngs:\n",
    "    city = citipy.nearest_city(lat_lng[0], lat_lng[1]).city_name\n",
    "    country = citipy.nearest_city(lat_lng[0], lat_lng[1]).country_code\n",
    "    # If the city is unique, then add it to a our cities list\n",
    "    if city not in cities:\n",
    "        cities.append(city)\n",
    "        countries.append(country.upper())\n",
    "\n",
    "# Print the city count to confirm sufficient count\n",
    "print(len(cities))\n",
    "\n",
    "#Print the country count to confirm it matches city count\n",
    "print(len(countries))"
   ]
  },
  {
   "cell_type": "code",
   "execution_count": 4,
   "metadata": {
    "scrolled": true
   },
   "outputs": [
    {
     "data": {
      "text/html": [
       "<div>\n",
       "<style scoped>\n",
       "    .dataframe tbody tr th:only-of-type {\n",
       "        vertical-align: middle;\n",
       "    }\n",
       "\n",
       "    .dataframe tbody tr th {\n",
       "        vertical-align: top;\n",
       "    }\n",
       "\n",
       "    .dataframe thead th {\n",
       "        text-align: right;\n",
       "    }\n",
       "</style>\n",
       "<table border=\"1\" class=\"dataframe\">\n",
       "  <thead>\n",
       "    <tr style=\"text-align: right;\">\n",
       "      <th></th>\n",
       "      <th>City</th>\n",
       "      <th>Country</th>\n",
       "      <th>Cloudiness</th>\n",
       "      <th>Date</th>\n",
       "      <th>Humidity</th>\n",
       "      <th>Lat</th>\n",
       "      <th>Lng</th>\n",
       "      <th>Max Temp</th>\n",
       "      <th>Windspeed</th>\n",
       "    </tr>\n",
       "  </thead>\n",
       "  <tbody>\n",
       "    <tr>\n",
       "      <th>0</th>\n",
       "      <td>taoudenni</td>\n",
       "      <td>ML</td>\n",
       "      <td></td>\n",
       "      <td></td>\n",
       "      <td></td>\n",
       "      <td></td>\n",
       "      <td></td>\n",
       "      <td></td>\n",
       "      <td></td>\n",
       "    </tr>\n",
       "    <tr>\n",
       "      <th>1</th>\n",
       "      <td>senanga</td>\n",
       "      <td>ZM</td>\n",
       "      <td></td>\n",
       "      <td></td>\n",
       "      <td></td>\n",
       "      <td></td>\n",
       "      <td></td>\n",
       "      <td></td>\n",
       "      <td></td>\n",
       "    </tr>\n",
       "    <tr>\n",
       "      <th>2</th>\n",
       "      <td>safwah</td>\n",
       "      <td>SA</td>\n",
       "      <td></td>\n",
       "      <td></td>\n",
       "      <td></td>\n",
       "      <td></td>\n",
       "      <td></td>\n",
       "      <td></td>\n",
       "      <td></td>\n",
       "    </tr>\n",
       "    <tr>\n",
       "      <th>3</th>\n",
       "      <td>nanortalik</td>\n",
       "      <td>GL</td>\n",
       "      <td></td>\n",
       "      <td></td>\n",
       "      <td></td>\n",
       "      <td></td>\n",
       "      <td></td>\n",
       "      <td></td>\n",
       "      <td></td>\n",
       "    </tr>\n",
       "    <tr>\n",
       "      <th>4</th>\n",
       "      <td>ringebu</td>\n",
       "      <td>NO</td>\n",
       "      <td></td>\n",
       "      <td></td>\n",
       "      <td></td>\n",
       "      <td></td>\n",
       "      <td></td>\n",
       "      <td></td>\n",
       "      <td></td>\n",
       "    </tr>\n",
       "  </tbody>\n",
       "</table>\n",
       "</div>"
      ],
      "text/plain": [
       "         City Country Cloudiness Date Humidity Lat Lng Max Temp Windspeed\n",
       "0   taoudenni      ML                                                    \n",
       "1     senanga      ZM                                                    \n",
       "2      safwah      SA                                                    \n",
       "3  nanortalik      GL                                                    \n",
       "4     ringebu      NO                                                    "
      ]
     },
     "execution_count": 4,
     "metadata": {},
     "output_type": "execute_result"
    }
   ],
   "source": [
    "# Create dataframe to store data\n",
    "city_weather = pd.DataFrame({'City': cities, 'Country': countries,'Cloudiness': \"\", 'Date': \"\", 'Humidity': \"\",\n",
    "                             'Lat': \"\", 'Lng': \"\", 'Max Temp': \"\", 'Windspeed': \"\"})\n",
    "\n",
    "#Preview the dataframe\n",
    "city_weather.head()"
   ]
  },
  {
   "cell_type": "markdown",
   "metadata": {},
   "source": [
    "### Perform API Calls\n",
    "* Perform a weather check on each city using a series of successive API calls.\n",
    "* Include a print log of each city as it'sbeing processed (with the city number and city name).\n"
   ]
  },
  {
   "cell_type": "code",
   "execution_count": 5,
   "metadata": {
    "scrolled": false
   },
   "outputs": [
    {
     "name": "stdout",
     "output_type": "stream",
     "text": [
      "\n",
      "-----------------------------\n",
      "Beginning Data Retrieval\n",
      "-----------------------------\n",
      "Processing Weather Data for Record 1 of Set 1 | Taoudenni\n",
      "Processing Weather Data for Record 2 of Set 1 | Senanga\n",
      "City not found....Skipping............\n",
      "Processing Weather Data for Record 3 of Set 1 | Nanortalik\n",
      "Processing Weather Data for Record 4 of Set 1 | Ringebu\n",
      "Processing Weather Data for Record 5 of Set 1 | Tasiilaq\n",
      "Processing Weather Data for Record 6 of Set 1 | Saint George\n",
      "Processing Weather Data for Record 7 of Set 1 | Hong Kong\n",
      "Processing Weather Data for Record 8 of Set 1 | Gizo Government Station\n",
      "Processing Weather Data for Record 9 of Set 1 | Stoholm\n",
      "Processing Weather Data for Record 10 of Set 1 | Ushuaia\n",
      "Processing Weather Data for Record 11 of Set 1 | Brentwood\n",
      "Processing Weather Data for Record 12 of Set 1 | Hilo\n",
      "Processing Weather Data for Record 13 of Set 1 | Busselton\n",
      "Processing Weather Data for Record 14 of Set 1 | Vaini\n",
      "Processing Weather Data for Record 15 of Set 1 | Carnarvon\n",
      "Processing Weather Data for Record 16 of Set 1 | Souillac\n",
      "Processing Weather Data for Record 17 of Set 1 | Punta Arenas\n",
      "Processing Weather Data for Record 18 of Set 1 | Thompson\n",
      "Processing Weather Data for Record 19 of Set 1 | Hobart\n",
      "Processing Weather Data for Record 20 of Set 1 | São João da Barra\n",
      "Processing Weather Data for Record 21 of Set 1 | Rikitea\n",
      "Processing Weather Data for Record 22 of Set 1 | Ponta Delgada\n",
      "Processing Weather Data for Record 23 of Set 1 | Karratha\n",
      "Processing Weather Data for Record 24 of Set 1 | Jamestown\n",
      "Processing Weather Data for Record 25 of Set 1 | Talnakh\n",
      "Processing Weather Data for Record 26 of Set 1 | Port Elizabeth\n",
      "Processing Weather Data for Record 27 of Set 1 | Qaanaaq\n",
      "Processing Weather Data for Record 28 of Set 1 | Port Alfred\n",
      "Processing Weather Data for Record 29 of Set 1 | Bengkulu\n",
      "Processing Weather Data for Record 30 of Set 1 | Airai\n",
      "Processing Weather Data for Record 31 of Set 1 | Namatanai\n",
      "Processing Weather Data for Record 32 of Set 1 | Zhangye\n",
      "Processing Weather Data for Record 33 of Set 1 | Gagino\n",
      "Processing Weather Data for Record 34 of Set 1 | Bluff\n",
      "Processing Weather Data for Record 35 of Set 1 | Mataura\n",
      "Processing Weather Data for Record 36 of Set 1 | Dori\n",
      "Processing Weather Data for Record 37 of Set 1 | Butaritari\n",
      "Processing Weather Data for Record 38 of Set 1 | The Valley\n",
      "Processing Weather Data for Record 39 of Set 1 | Esperance\n",
      "Processing Weather Data for Record 40 of Set 1 | Port Antonio\n",
      "Processing Weather Data for Record 41 of Set 1 | Iqaluit\n",
      "Processing Weather Data for Record 42 of Set 1 | Peniche\n",
      "Processing Weather Data for Record 43 of Set 1 | Provideniya\n",
      "Processing Weather Data for Record 44 of Set 1 | Saint-Philippe\n",
      "Processing Weather Data for Record 45 of Set 1 | Kapaa\n",
      "City not found....Skipping............\n",
      "Processing Weather Data for Record 46 of Set 1 | Jacareacanga\n",
      "Processing Weather Data for Record 47 of Set 1 | San Patricio\n",
      "City not found....Skipping............\n",
      "Processing Weather Data for Record 48 of Set 1 | Avera\n",
      "Processing Weather Data for Record 49 of Set 1 | Tuktoyaktuk\n",
      "Processing Weather Data for Record 50 of Set 1 | Stornoway\n",
      "Processing Weather Data for Record 1 of Set 2 | Tomari\n",
      "City not found....Skipping............\n",
      "Processing Weather Data for Record 2 of Set 2 | Nome\n",
      "Processing Weather Data for Record 3 of Set 2 | Castro\n",
      "Processing Weather Data for Record 4 of Set 2 | Maceió\n",
      "Processing Weather Data for Record 5 of Set 2 | Ponta do Sol\n",
      "Processing Weather Data for Record 6 of Set 2 | Port Hardy\n",
      "Processing Weather Data for Record 7 of Set 2 | Emba\n",
      "Processing Weather Data for Record 8 of Set 2 | Hithadhoo\n",
      "Processing Weather Data for Record 9 of Set 2 | Bathsheba\n",
      "Processing Weather Data for Record 10 of Set 2 | Luanda\n",
      "Processing Weather Data for Record 11 of Set 2 | Severo-Kuril'sk\n",
      "Processing Weather Data for Record 12 of Set 2 | Liverpool\n",
      "Processing Weather Data for Record 13 of Set 2 | Sabinópolis\n",
      "Processing Weather Data for Record 14 of Set 2 | Imeni Poliny Osipenko\n",
      "Processing Weather Data for Record 15 of Set 2 | Khatanga\n",
      "Processing Weather Data for Record 16 of Set 2 | Krasnozerskoye\n",
      "Processing Weather Data for Record 17 of Set 2 | Albany\n",
      "Processing Weather Data for Record 18 of Set 2 | Trairi\n",
      "Processing Weather Data for Record 19 of Set 2 | Atar\n",
      "Processing Weather Data for Record 20 of Set 2 | Goba\n",
      "Processing Weather Data for Record 21 of Set 2 | Avarua\n",
      "Processing Weather Data for Record 22 of Set 2 | Honningsvåg\n",
      "Processing Weather Data for Record 23 of Set 2 | Bethel\n",
      "Processing Weather Data for Record 24 of Set 2 | Ahipara\n",
      "Processing Weather Data for Record 25 of Set 2 | Khudumelapye\n",
      "Processing Weather Data for Record 26 of Set 2 | Mehamn\n",
      "City not found....Skipping............\n",
      "Processing Weather Data for Record 27 of Set 2 | Susa\n",
      "Processing Weather Data for Record 28 of Set 2 | Bredasdorp\n",
      "City not found....Skipping............\n",
      "Processing Weather Data for Record 29 of Set 2 | San Quintín\n",
      "Processing Weather Data for Record 30 of Set 2 | Seydişehir\n",
      "Processing Weather Data for Record 31 of Set 2 | Qinzhou\n",
      "Processing Weather Data for Record 32 of Set 2 | Antalaha\n",
      "Processing Weather Data for Record 33 of Set 2 | Byron Bay\n",
      "Processing Weather Data for Record 34 of Set 2 | Baruun-Urt\n",
      "Processing Weather Data for Record 35 of Set 2 | Lebu\n",
      "Processing Weather Data for Record 36 of Set 2 | Dikson\n",
      "Processing Weather Data for Record 37 of Set 2 | Saskylakh\n",
      "Processing Weather Data for Record 38 of Set 2 | Samarai\n",
      "Processing Weather Data for Record 39 of Set 2 | Takoradze\n",
      "Processing Weather Data for Record 40 of Set 2 | Fécamp\n",
      "Processing Weather Data for Record 41 of Set 2 | Kaltenkirchen\n",
      "Processing Weather Data for Record 42 of Set 2 | Katsuura\n",
      "Processing Weather Data for Record 43 of Set 2 | Conceição do Araguaia\n",
      "Processing Weather Data for Record 44 of Set 2 | Rundu\n",
      "Processing Weather Data for Record 45 of Set 2 | General Roca\n",
      "Processing Weather Data for Record 46 of Set 2 | Jardim\n",
      "Processing Weather Data for Record 47 of Set 2 | Nikolskoye\n",
      "Processing Weather Data for Record 48 of Set 2 | Kaitangata\n",
      "Processing Weather Data for Record 49 of Set 2 | Pa Sang\n",
      "City not found....Skipping............\n",
      "Processing Weather Data for Record 50 of Set 2 | Santana do Livramento\n",
      "Processing Weather Data for Record 1 of Set 3 | Bonavista\n",
      "Processing Weather Data for Record 2 of Set 3 | Rio Grande\n",
      "Processing Weather Data for Record 3 of Set 3 | Hermanus\n",
      "Processing Weather Data for Record 4 of Set 3 | Octeville\n",
      "Processing Weather Data for Record 5 of Set 3 | Kurumkan\n",
      "Processing Weather Data for Record 6 of Set 3 | Nushki\n",
      "Processing Weather Data for Record 7 of Set 3 | Yellowknife\n",
      "Processing Weather Data for Record 8 of Set 3 | Yarim\n",
      "Processing Weather Data for Record 9 of Set 3 | Cape Town\n",
      "Processing Weather Data for Record 10 of Set 3 | Lukulu\n",
      "Processing Weather Data for Record 11 of Set 3 | Tiksi\n",
      "Processing Weather Data for Record 12 of Set 3 | Poum\n",
      "Processing Weather Data for Record 13 of Set 3 | Bambous Virieux\n",
      "Processing Weather Data for Record 14 of Set 3 | Quatre Cocos\n",
      "Processing Weather Data for Record 15 of Set 3 | Ostrovnoy\n",
      "Processing Weather Data for Record 16 of Set 3 | Mahébourg\n",
      "Processing Weather Data for Record 17 of Set 3 | Nogliki\n",
      "Processing Weather Data for Record 18 of Set 3 | Freeport\n",
      "City not found....Skipping............\n",
      "Processing Weather Data for Record 19 of Set 3 | Santa Rita\n",
      "Processing Weather Data for Record 20 of Set 3 | Cabrero\n",
      "Processing Weather Data for Record 21 of Set 3 | Bandarbeyla\n",
      "Processing Weather Data for Record 22 of Set 3 | Virginia Beach\n",
      "Processing Weather Data for Record 23 of Set 3 | Eyrarbakki\n",
      "Processing Weather Data for Record 24 of Set 3 | Atuona\n",
      "City not found....Skipping............\n",
      "City not found....Skipping............\n",
      "City not found....Skipping............\n",
      "Processing Weather Data for Record 25 of Set 3 | Kahului\n",
      "Processing Weather Data for Record 26 of Set 3 | Rancho Palos Verdes\n",
      "Processing Weather Data for Record 27 of Set 3 | Kaeo\n",
      "Processing Weather Data for Record 28 of Set 3 | Pitkyaranta\n",
      "Processing Weather Data for Record 29 of Set 3 | Longyearbyen\n",
      "Processing Weather Data for Record 30 of Set 3 | Ouésso\n",
      "Processing Weather Data for Record 31 of Set 3 | Pāsighāt\n"
     ]
    },
    {
     "name": "stdout",
     "output_type": "stream",
     "text": [
      "Processing Weather Data for Record 32 of Set 3 | Isabela\n",
      "Processing Weather Data for Record 33 of Set 3 | Havre-St-Pierre\n",
      "Processing Weather Data for Record 34 of Set 3 | Mpika\n",
      "Processing Weather Data for Record 35 of Set 3 | Thinadhoo\n",
      "Processing Weather Data for Record 36 of Set 3 | Riyadh\n",
      "Processing Weather Data for Record 37 of Set 3 | Exmouth\n",
      "Processing Weather Data for Record 38 of Set 3 | Taldan\n",
      "Processing Weather Data for Record 39 of Set 3 | Gornozavodsk\n",
      "Processing Weather Data for Record 40 of Set 3 | Xining\n",
      "Processing Weather Data for Record 41 of Set 3 | Torbay\n",
      "Processing Weather Data for Record 42 of Set 3 | Upernavik\n",
      "Processing Weather Data for Record 43 of Set 3 | Trincomalee\n",
      "Processing Weather Data for Record 44 of Set 3 | Moskovskiy\n",
      "Processing Weather Data for Record 45 of Set 3 | Nizhniy Kuranakh\n",
      "Processing Weather Data for Record 46 of Set 3 | Balkhash\n",
      "Processing Weather Data for Record 47 of Set 3 | Sumter\n",
      "Processing Weather Data for Record 48 of Set 3 | Cayenne\n",
      "Processing Weather Data for Record 49 of Set 3 | Chitral\n",
      "Processing Weather Data for Record 50 of Set 3 | Oktyabr'skiy\n",
      "Processing Weather Data for Record 1 of Set 4 | Andra\n",
      "City not found....Skipping............\n",
      "Processing Weather Data for Record 2 of Set 4 | Yulara\n",
      "Processing Weather Data for Record 3 of Set 4 | Schijndel\n",
      "Processing Weather Data for Record 4 of Set 4 | Tuatapere\n",
      "Processing Weather Data for Record 5 of Set 4 | Rabo de Peixe\n",
      "Processing Weather Data for Record 6 of Set 4 | Manakara\n",
      "Processing Weather Data for Record 7 of Set 4 | Korla\n",
      "Processing Weather Data for Record 8 of Set 4 | Vangaindrano\n",
      "Processing Weather Data for Record 9 of Set 4 | Penzance\n",
      "Processing Weather Data for Record 10 of Set 4 | Pidvynohradiv\n",
      "City not found....Skipping............\n",
      "Processing Weather Data for Record 11 of Set 4 | Srednekolymsk\n",
      "Processing Weather Data for Record 12 of Set 4 | Andenes\n",
      "Processing Weather Data for Record 13 of Set 4 | Barrow\n",
      "City not found....Skipping............\n",
      "Processing Weather Data for Record 14 of Set 4 | Grand Gaube\n",
      "Processing Weather Data for Record 15 of Set 4 | Berbera\n",
      "Processing Weather Data for Record 16 of Set 4 | Roald\n",
      "City not found....Skipping............\n",
      "City not found....Skipping............\n",
      "Processing Weather Data for Record 17 of Set 4 | Havelock\n",
      "Processing Weather Data for Record 18 of Set 4 | Oranjemund\n",
      "Processing Weather Data for Record 19 of Set 4 | Port Keats\n",
      "Processing Weather Data for Record 20 of Set 4 | Saint Paul Harbor\n",
      "Processing Weather Data for Record 21 of Set 4 | Vuktyl\n",
      "Processing Weather Data for Record 22 of Set 4 | Boden\n",
      "Processing Weather Data for Record 23 of Set 4 | Kiryat Gat\n",
      "Processing Weather Data for Record 24 of Set 4 | Hamilton\n",
      "Processing Weather Data for Record 25 of Set 4 | Limenaria\n",
      "Processing Weather Data for Record 26 of Set 4 | Sola\n",
      "Processing Weather Data for Record 27 of Set 4 | Jumla\n",
      "Processing Weather Data for Record 28 of Set 4 | Dingle\n",
      "Processing Weather Data for Record 29 of Set 4 | São Félix do Xingu\n",
      "City not found....Skipping............\n",
      "Processing Weather Data for Record 30 of Set 4 | Van\n",
      "Processing Weather Data for Record 31 of Set 4 | Dakar\n",
      "Processing Weather Data for Record 32 of Set 4 | Coquimbo\n",
      "Processing Weather Data for Record 33 of Set 4 | Kaduqli\n",
      "City not found....Skipping............\n",
      "Processing Weather Data for Record 34 of Set 4 | George Town\n",
      "Processing Weather Data for Record 35 of Set 4 | Iberia\n",
      "Processing Weather Data for Record 36 of Set 4 | Salme\n",
      "Processing Weather Data for Record 37 of Set 4 | Faanui\n",
      "Processing Weather Data for Record 38 of Set 4 | Borogontsy\n",
      "Processing Weather Data for Record 39 of Set 4 | Abu Samrah\n",
      "Processing Weather Data for Record 40 of Set 4 | Mar del Plata\n",
      "Processing Weather Data for Record 41 of Set 4 | Norman Wells\n",
      "Processing Weather Data for Record 42 of Set 4 | Benguela\n",
      "Processing Weather Data for Record 43 of Set 4 | Kendari\n",
      "Processing Weather Data for Record 44 of Set 4 | Donskoye\n",
      "Processing Weather Data for Record 45 of Set 4 | Santa Cruz de la Sierra\n",
      "Processing Weather Data for Record 46 of Set 4 | Amarpur\n",
      "Processing Weather Data for Record 47 of Set 4 | Codrington\n",
      "Processing Weather Data for Record 48 of Set 4 | Concordia\n",
      "Processing Weather Data for Record 49 of Set 4 | Porto-Novo\n",
      "Processing Weather Data for Record 50 of Set 4 | Mendi\n",
      "Processing Weather Data for Record 1 of Set 5 | Fairbanks\n",
      "Processing Weather Data for Record 2 of Set 5 | Dongying\n",
      "City not found....Skipping............\n",
      "Processing Weather Data for Record 3 of Set 5 | Cidreira\n",
      "Processing Weather Data for Record 4 of Set 5 | Mirny\n",
      "City not found....Skipping............\n",
      "Processing Weather Data for Record 5 of Set 5 | Boshnyakovo\n",
      "Processing Weather Data for Record 6 of Set 5 | San Juan de Opoa\n",
      "Processing Weather Data for Record 7 of Set 5 | Christchurch\n",
      "Processing Weather Data for Record 8 of Set 5 | Aquin\n",
      "Processing Weather Data for Record 9 of Set 5 | Eureka\n",
      "Processing Weather Data for Record 10 of Set 5 | Zhangaözen\n",
      "Processing Weather Data for Record 11 of Set 5 | Puerto Ayora\n",
      "Processing Weather Data for Record 12 of Set 5 | Lashio\n",
      "Processing Weather Data for Record 13 of Set 5 | Mumbwa\n",
      "Processing Weather Data for Record 14 of Set 5 | Cabo San Lucas\n",
      "Processing Weather Data for Record 15 of Set 5 | Keflavik\n",
      "Processing Weather Data for Record 16 of Set 5 | Chul'man\n",
      "Processing Weather Data for Record 17 of Set 5 | Barcelona\n",
      "Processing Weather Data for Record 18 of Set 5 | Umluj\n",
      "Processing Weather Data for Record 19 of Set 5 | Chihuahua\n",
      "Processing Weather Data for Record 20 of Set 5 | Matagami\n",
      "Processing Weather Data for Record 21 of Set 5 | Eldorado\n",
      "Processing Weather Data for Record 22 of Set 5 | Tigil'\n",
      "Processing Weather Data for Record 23 of Set 5 | Marsá Maţrūḩ\n",
      "Processing Weather Data for Record 24 of Set 5 | Vestmannaeyjar\n",
      "Processing Weather Data for Record 25 of Set 5 | Cockburn Town\n",
      "Processing Weather Data for Record 26 of Set 5 | Santa Vitória do Palmar\n",
      "Processing Weather Data for Record 27 of Set 5 | Batagay\n",
      "Processing Weather Data for Record 28 of Set 5 | Vlorë\n",
      "Processing Weather Data for Record 29 of Set 5 | Clyde River\n",
      "Processing Weather Data for Record 30 of Set 5 | Villazón\n",
      "Processing Weather Data for Record 31 of Set 5 | Kedrovyy\n",
      "Processing Weather Data for Record 32 of Set 5 | Teya\n",
      "Processing Weather Data for Record 33 of Set 5 | Lüderitz\n",
      "Processing Weather Data for Record 34 of Set 5 | Margate\n",
      "Processing Weather Data for Record 35 of Set 5 | Marrakesh\n",
      "Processing Weather Data for Record 36 of Set 5 | Porto Santo\n",
      "Processing Weather Data for Record 37 of Set 5 | Zhigansk\n",
      "Processing Weather Data for Record 38 of Set 5 | Quelimane\n",
      "Processing Weather Data for Record 39 of Set 5 | Kununurra\n",
      "Processing Weather Data for Record 40 of Set 5 | Hambantota\n",
      "Processing Weather Data for Record 41 of Set 5 | East London\n",
      "Processing Weather Data for Record 42 of Set 5 | Sitka\n",
      "Processing Weather Data for Record 43 of Set 5 | Tautira\n",
      "Processing Weather Data for Record 44 of Set 5 | Bumba\n",
      "Processing Weather Data for Record 45 of Set 5 | Kieta\n",
      "Processing Weather Data for Record 46 of Set 5 | Monrovia\n",
      "Processing Weather Data for Record 47 of Set 5 | Okoneshnikovo\n",
      "City not found....Skipping............\n",
      "Processing Weather Data for Record 48 of Set 5 | Pelym\n",
      "Processing Weather Data for Record 49 of Set 5 | Portobelo\n",
      "Processing Weather Data for Record 50 of Set 5 | Kungurtug\n",
      "Processing Weather Data for Record 1 of Set 6 | Dolores\n",
      "Processing Weather Data for Record 2 of Set 6 | Neepawa\n",
      "Processing Weather Data for Record 3 of Set 6 | Tura\n",
      "Processing Weather Data for Record 4 of Set 6 | Port Lincoln\n",
      "Processing Weather Data for Record 5 of Set 6 | Kumul\n",
      "Processing Weather Data for Record 6 of Set 6 | Matara\n",
      "Processing Weather Data for Record 7 of Set 6 | Krasnosel'kup\n",
      "Processing Weather Data for Record 8 of Set 6 | Alofi\n",
      "Processing Weather Data for Record 9 of Set 6 | Asău\n",
      "Processing Weather Data for Record 10 of Set 6 | Pandan\n",
      "Processing Weather Data for Record 11 of Set 6 | Arraial do Cabo\n",
      "Processing Weather Data for Record 12 of Set 6 | Menongue\n",
      "Processing Weather Data for Record 13 of Set 6 | Williams Lake\n",
      "Processing Weather Data for Record 14 of Set 6 | Garelochhead\n",
      "Processing Weather Data for Record 15 of Set 6 | Yerbogachën\n"
     ]
    },
    {
     "name": "stdout",
     "output_type": "stream",
     "text": [
      "Processing Weather Data for Record 16 of Set 6 | Nioro\n",
      "Processing Weather Data for Record 17 of Set 6 | Hay River\n",
      "Processing Weather Data for Record 18 of Set 6 | Luwuk\n",
      "Processing Weather Data for Record 19 of Set 6 | Kenora\n",
      "Processing Weather Data for Record 20 of Set 6 | Vostok\n",
      "Processing Weather Data for Record 21 of Set 6 | Marawi\n",
      "City not found....Skipping............\n",
      "Processing Weather Data for Record 22 of Set 6 | Nadym\n",
      "Processing Weather Data for Record 23 of Set 6 | Pangkalanbuun\n",
      "Processing Weather Data for Record 24 of Set 6 | Bac Lieu\n",
      "Processing Weather Data for Record 25 of Set 6 | Kyren\n",
      "Processing Weather Data for Record 26 of Set 6 | Richards Bay\n",
      "Processing Weather Data for Record 27 of Set 6 | Pangnirtung\n",
      "Processing Weather Data for Record 28 of Set 6 | Oshnavīyeh\n",
      "Processing Weather Data for Record 29 of Set 6 | Mogocha\n",
      "Processing Weather Data for Record 30 of Set 6 | Seoul\n",
      "Processing Weather Data for Record 31 of Set 6 | Bernalillo\n",
      "Processing Weather Data for Record 32 of Set 6 | Orsha\n",
      "Processing Weather Data for Record 33 of Set 6 | Lund\n",
      "Processing Weather Data for Record 34 of Set 6 | Fomboni\n",
      "City not found....Skipping............\n",
      "Processing Weather Data for Record 35 of Set 6 | Jalingo\n",
      "Processing Weather Data for Record 36 of Set 6 | Campos dos Goytacazes\n",
      "City not found....Skipping............\n",
      "City not found....Skipping............\n",
      "Processing Weather Data for Record 37 of Set 6 | Leningradskiy\n",
      "Processing Weather Data for Record 38 of Set 6 | Bijapur\n",
      "City not found....Skipping............\n",
      "Processing Weather Data for Record 39 of Set 6 | Carroll\n",
      "Processing Weather Data for Record 40 of Set 6 | Qaqortoq\n",
      "Processing Weather Data for Record 41 of Set 6 | Northfield\n",
      "Processing Weather Data for Record 42 of Set 6 | Nouadhibou\n",
      "City not found....Skipping............\n",
      "Processing Weather Data for Record 43 of Set 6 | Tortosa\n",
      "City not found....Skipping............\n",
      "City not found....Skipping............\n",
      "Processing Weather Data for Record 44 of Set 6 | Hasaki\n",
      "Processing Weather Data for Record 45 of Set 6 | Aklavik\n",
      "Processing Weather Data for Record 46 of Set 6 | Morehead\n",
      "Processing Weather Data for Record 47 of Set 6 | Dumbéa\n",
      "Processing Weather Data for Record 48 of Set 6 | Khandyga\n",
      "Processing Weather Data for Record 49 of Set 6 | Ponoka\n",
      "Processing Weather Data for Record 50 of Set 6 | Otradnoye\n",
      "Processing Weather Data for Record 1 of Set 7 | Hofn\n",
      "Processing Weather Data for Record 2 of Set 7 | Tahe\n",
      "Processing Weather Data for Record 3 of Set 7 | Sarankhola\n",
      "Processing Weather Data for Record 4 of Set 7 | Saint-Augustin\n",
      "Processing Weather Data for Record 5 of Set 7 | Amealco\n",
      "Processing Weather Data for Record 6 of Set 7 | Barcelos\n",
      "Processing Weather Data for Record 7 of Set 7 | Cherskiy\n",
      "Processing Weather Data for Record 8 of Set 7 | Pampa\n",
      "Processing Weather Data for Record 9 of Set 7 | Dalbandin\n",
      "Processing Weather Data for Record 10 of Set 7 | Fairmont\n",
      "Processing Weather Data for Record 11 of Set 7 | Chui\n",
      "Processing Weather Data for Record 12 of Set 7 | Aswān\n",
      "Processing Weather Data for Record 13 of Set 7 | Naze\n",
      "Processing Weather Data for Record 14 of Set 7 | Chinsali\n",
      "Processing Weather Data for Record 15 of Set 7 | Puerto Escondido\n",
      "Processing Weather Data for Record 16 of Set 7 | Ambovombe\n",
      "Processing Weather Data for Record 17 of Set 7 | Grayvoron\n",
      "Processing Weather Data for Record 18 of Set 7 | Oga\n",
      "Processing Weather Data for Record 19 of Set 7 | Selçuk\n",
      "Processing Weather Data for Record 20 of Set 7 | Mahon\n",
      "Processing Weather Data for Record 21 of Set 7 | Geraldton\n",
      "Processing Weather Data for Record 22 of Set 7 | Lagos\n",
      "Processing Weather Data for Record 23 of Set 7 | Paamiut\n",
      "Processing Weather Data for Record 24 of Set 7 | Severnyy\n",
      "Processing Weather Data for Record 25 of Set 7 | Lagoa\n",
      "Processing Weather Data for Record 26 of Set 7 | Launceston\n",
      "Processing Weather Data for Record 27 of Set 7 | Pingliang\n",
      "Processing Weather Data for Record 28 of Set 7 | Tamiahua\n",
      "Processing Weather Data for Record 29 of Set 7 | Laguna\n",
      "Processing Weather Data for Record 30 of Set 7 | Muzhi\n",
      "Processing Weather Data for Record 31 of Set 7 | New Norfolk\n",
      "Processing Weather Data for Record 32 of Set 7 | Hakone\n",
      "Processing Weather Data for Record 33 of Set 7 | Khor\n",
      "Processing Weather Data for Record 34 of Set 7 | Tekeli\n",
      "Processing Weather Data for Record 35 of Set 7 | Mayumba\n",
      "City not found....Skipping............\n",
      "Processing Weather Data for Record 36 of Set 7 | Tadine\n",
      "Processing Weather Data for Record 37 of Set 7 | Lipari\n",
      "Processing Weather Data for Record 38 of Set 7 | Makat\n",
      "Processing Weather Data for Record 39 of Set 7 | Savannah Bight\n",
      "Processing Weather Data for Record 40 of Set 7 | Pokhara\n",
      "Processing Weather Data for Record 41 of Set 7 | Ancud\n",
      "Processing Weather Data for Record 42 of Set 7 | Taganak\n",
      "Processing Weather Data for Record 43 of Set 7 | Laas\n",
      "Processing Weather Data for Record 44 of Set 7 | Bahía Blanca\n",
      "City not found....Skipping............\n",
      "Processing Weather Data for Record 45 of Set 7 | Kavieng\n",
      "Processing Weather Data for Record 46 of Set 7 | Vardø\n",
      "Processing Weather Data for Record 47 of Set 7 | Vila Franca do Campo\n",
      "Processing Weather Data for Record 48 of Set 7 | Bara\n",
      "Processing Weather Data for Record 49 of Set 7 | Marsabit\n",
      "Processing Weather Data for Record 50 of Set 7 | Palauig\n",
      "Processing Weather Data for Record 1 of Set 8 | Yeppoon\n",
      "Processing Weather Data for Record 2 of Set 8 | Lapua\n",
      "Processing Weather Data for Record 3 of Set 8 | Jos\n",
      "Processing Weather Data for Record 4 of Set 8 | Maningrida\n",
      "Processing Weather Data for Record 5 of Set 8 | Albanel\n",
      "Processing Weather Data for Record 6 of Set 8 | Banikoara\n",
      "Processing Weather Data for Record 7 of Set 8 | Pevek\n",
      "Processing Weather Data for Record 8 of Set 8 | Lázaro Cárdenas\n",
      "Processing Weather Data for Record 9 of Set 8 | Lompoc\n",
      "Processing Weather Data for Record 10 of Set 8 | Monopoli\n",
      "Processing Weather Data for Record 11 of Set 8 | Saint-Pierre\n",
      "Processing Weather Data for Record 12 of Set 8 | Dunedin\n",
      "Processing Weather Data for Record 13 of Set 8 | Wau\n",
      "Processing Weather Data for Record 14 of Set 8 | Belaya Gora\n",
      "Processing Weather Data for Record 15 of Set 8 | Nara\n",
      "Processing Weather Data for Record 16 of Set 8 | Droitwich\n",
      "Processing Weather Data for Record 17 of Set 8 | Mayskiy\n",
      "Processing Weather Data for Record 18 of Set 8 | Ukiah\n",
      "Processing Weather Data for Record 19 of Set 8 | Inuvik\n",
      "Processing Weather Data for Record 20 of Set 8 | Maniitsoq\n",
      "City not found....Skipping............\n",
      "Processing Weather Data for Record 21 of Set 8 | Constitución\n",
      "Processing Weather Data for Record 22 of Set 8 | Nishihara\n",
      "City not found....Skipping............\n",
      "Processing Weather Data for Record 23 of Set 8 | Scoarţa\n",
      "Processing Weather Data for Record 24 of Set 8 | Ilulissat\n",
      "Processing Weather Data for Record 25 of Set 8 | Nhulunbuy\n",
      "Processing Weather Data for Record 26 of Set 8 | Pemba\n",
      "Processing Weather Data for Record 27 of Set 8 | Kashan\n",
      "Processing Weather Data for Record 28 of Set 8 | Dondaicha\n",
      "Processing Weather Data for Record 29 of Set 8 | Kruisfontein\n",
      "Processing Weather Data for Record 30 of Set 8 | Tual\n",
      "Processing Weather Data for Record 31 of Set 8 | Ciudad Bolivar\n",
      "Processing Weather Data for Record 32 of Set 8 | Cserszegtomaj\n",
      "Processing Weather Data for Record 33 of Set 8 | Touros\n",
      "Processing Weather Data for Record 34 of Set 8 | Viedma\n",
      "City not found....Skipping............\n",
      "Processing Weather Data for Record 35 of Set 8 | Hobyo\n",
      "Processing Weather Data for Record 36 of Set 8 | Sosnovo-Ozerskoye\n",
      "Processing Weather Data for Record 37 of Set 8 | Manali\n",
      "Processing Weather Data for Record 38 of Set 8 | Erdenet\n",
      "Processing Weather Data for Record 39 of Set 8 | Atikokan\n",
      "Processing Weather Data for Record 40 of Set 8 | Sfântu Gheorghe\n",
      "Processing Weather Data for Record 41 of Set 8 | Broken Hill\n",
      "Processing Weather Data for Record 42 of Set 8 | Lyubinskiy\n",
      "Processing Weather Data for Record 43 of Set 8 | Narrabri\n",
      "Processing Weather Data for Record 44 of Set 8 | Rome\n",
      "Processing Weather Data for Record 45 of Set 8 | Mizque\n",
      "Processing Weather Data for Record 46 of Set 8 | Garissa\n",
      "Processing Weather Data for Record 47 of Set 8 | Waipawa\n",
      "Processing Weather Data for Record 48 of Set 8 | Yumen\n",
      "Processing Weather Data for Record 49 of Set 8 | Auki\n",
      "Processing Weather Data for Record 50 of Set 8 | Agirish\n"
     ]
    },
    {
     "name": "stdout",
     "output_type": "stream",
     "text": [
      "Processing Weather Data for Record 1 of Set 9 | Taunsa\n",
      "Processing Weather Data for Record 2 of Set 9 | Charters Towers\n",
      "Processing Weather Data for Record 3 of Set 9 | Altamira\n",
      "Processing Weather Data for Record 4 of Set 9 | Lata\n",
      "Processing Weather Data for Record 5 of Set 9 | Phuthaditjhaba\n",
      "Processing Weather Data for Record 6 of Set 9 | Derbent\n",
      "Processing Weather Data for Record 7 of Set 9 | Adrar\n",
      "Processing Weather Data for Record 8 of Set 9 | Hirara\n",
      "City not found....Skipping............\n",
      "Processing Weather Data for Record 9 of Set 9 | Saldanha\n",
      "City not found....Skipping............\n",
      "Processing Weather Data for Record 10 of Set 9 | Meulaboh\n",
      "Processing Weather Data for Record 11 of Set 9 | Baturaja\n",
      "Processing Weather Data for Record 12 of Set 9 | Sioux Lookout\n",
      "Processing Weather Data for Record 13 of Set 9 | São Miguel do Tapuio\n",
      "Processing Weather Data for Record 14 of Set 9 | Pacific Grove\n",
      "Processing Weather Data for Record 15 of Set 9 | Nyzhnya Duvanka\n",
      "Processing Weather Data for Record 16 of Set 9 | Manzanillo\n",
      "City not found....Skipping............\n",
      "Processing Weather Data for Record 17 of Set 9 | Henties Bay\n",
      "Processing Weather Data for Record 18 of Set 9 | Port Blair\n",
      "Processing Weather Data for Record 19 of Set 9 | Ambilobe\n",
      "Processing Weather Data for Record 20 of Set 9 | Luís Correia\n",
      "Processing Weather Data for Record 21 of Set 9 | Ribeira Grande\n",
      "Processing Weather Data for Record 22 of Set 9 | Winnemucca\n",
      "Processing Weather Data for Record 23 of Set 9 | Khani\n",
      "Processing Weather Data for Record 24 of Set 9 | Portland\n",
      "Processing Weather Data for Record 25 of Set 9 | Miandrivazo\n",
      "Processing Weather Data for Record 26 of Set 9 | Mount Isa\n",
      "Processing Weather Data for Record 27 of Set 9 | Rawson\n",
      "City not found....Skipping............\n",
      "Processing Weather Data for Record 28 of Set 9 | Awjilah\n",
      "Processing Weather Data for Record 29 of Set 9 | Poronaysk\n",
      "Processing Weather Data for Record 30 of Set 9 | Lorengau\n",
      "Processing Weather Data for Record 31 of Set 9 | Waddān\n",
      "Processing Weather Data for Record 32 of Set 9 | Kidal\n",
      "Processing Weather Data for Record 33 of Set 9 | Ruska Poliana\n",
      "Processing Weather Data for Record 34 of Set 9 | Yanggu\n",
      "Processing Weather Data for Record 35 of Set 9 | Inongo\n",
      "Processing Weather Data for Record 36 of Set 9 | Vao\n",
      "Processing Weather Data for Record 37 of Set 9 | Burnie\n",
      "Processing Weather Data for Record 38 of Set 9 | Honiara\n",
      "Processing Weather Data for Record 39 of Set 9 | Lampa\n",
      "Processing Weather Data for Record 40 of Set 9 | Semenivka\n",
      "Processing Weather Data for Record 41 of Set 9 | Tiznit Province\n",
      "Processing Weather Data for Record 42 of Set 9 | Kenitra\n",
      "Processing Weather Data for Record 43 of Set 9 | Gamba\n",
      "Processing Weather Data for Record 44 of Set 9 | Askino\n",
      "Processing Weather Data for Record 45 of Set 9 | Santiago del Estero\n",
      "Processing Weather Data for Record 46 of Set 9 | Guarapari\n",
      "Processing Weather Data for Record 47 of Set 9 | Kutum\n",
      "Processing Weather Data for Record 48 of Set 9 | Vanimo\n",
      "Processing Weather Data for Record 49 of Set 9 | Kushima\n",
      "Processing Weather Data for Record 50 of Set 9 | Narsaq\n",
      "Processing Weather Data for Record 1 of Set 10 | Fortuna\n",
      "Processing Weather Data for Record 2 of Set 10 | Cape Canaveral\n",
      "Processing Weather Data for Record 3 of Set 10 | Ola\n",
      "Processing Weather Data for Record 4 of Set 10 | Evensk\n",
      "City not found....Skipping............\n",
      "Processing Weather Data for Record 5 of Set 10 | Mahuva\n",
      "Processing Weather Data for Record 6 of Set 10 | Kayasula\n",
      "Processing Weather Data for Record 7 of Set 10 | Tombouctou\n",
      "Processing Weather Data for Record 8 of Set 10 | Gorontalo\n",
      "City not found....Skipping............\n",
      "Processing Weather Data for Record 9 of Set 10 | Liseleje\n",
      "Processing Weather Data for Record 10 of Set 10 | Cortez\n",
      "Processing Weather Data for Record 11 of Set 10 | Koumac\n",
      "Processing Weather Data for Record 12 of Set 10 | Verāval\n",
      "Processing Weather Data for Record 13 of Set 10 | Inhambane\n",
      "Processing Weather Data for Record 14 of Set 10 | Korfovskiy\n",
      "Processing Weather Data for Record 15 of Set 10 | Elliot\n",
      "Processing Weather Data for Record 16 of Set 10 | Chokurdakh\n",
      "Processing Weather Data for Record 17 of Set 10 | Saint-François\n",
      "Processing Weather Data for Record 18 of Set 10 | Sidi Ali\n",
      "Processing Weather Data for Record 19 of Set 10 | Sabang\n",
      "Processing Weather Data for Record 20 of Set 10 | Outlook\n",
      "Processing Weather Data for Record 21 of Set 10 | Yorkton\n",
      "Processing Weather Data for Record 22 of Set 10 | Makakilo City\n",
      "Processing Weather Data for Record 23 of Set 10 | Pontianak\n",
      "Processing Weather Data for Record 24 of Set 10 | Sistranda\n",
      "Processing Weather Data for Record 25 of Set 10 | Plettenberg Bay\n",
      "Processing Weather Data for Record 26 of Set 10 | Ulladulla\n",
      "Processing Weather Data for Record 27 of Set 10 | Saint-Joseph\n",
      "Processing Weather Data for Record 28 of Set 10 | Ous\n",
      "Processing Weather Data for Record 29 of Set 10 | Sabha\n",
      "Processing Weather Data for Record 30 of Set 10 | Harper\n",
      "Processing Weather Data for Record 31 of Set 10 | Neuquén\n",
      "Processing Weather Data for Record 32 of Set 10 | Alice Springs\n",
      "Processing Weather Data for Record 33 of Set 10 | Gazli\n",
      "Processing Weather Data for Record 34 of Set 10 | La Ronge\n",
      "Processing Weather Data for Record 35 of Set 10 | Helong\n",
      "Processing Weather Data for Record 36 of Set 10 | Strai\n",
      "Processing Weather Data for Record 37 of Set 10 | Bosaso\n",
      "Processing Weather Data for Record 38 of Set 10 | Flinders\n",
      "Processing Weather Data for Record 39 of Set 10 | Rocha\n",
      "Processing Weather Data for Record 40 of Set 10 | Anadyr\n",
      "City not found....Skipping............\n",
      "Processing Weather Data for Record 41 of Set 10 | Altay\n",
      "Processing Weather Data for Record 42 of Set 10 | Tomatlán\n",
      "Processing Weather Data for Record 43 of Set 10 | Port Hedland\n",
      "Processing Weather Data for Record 44 of Set 10 | Diamantino\n",
      "Processing Weather Data for Record 45 of Set 10 | Killam\n",
      "Processing Weather Data for Record 46 of Set 10 | Santa Cruz del Norte\n",
      "Processing Weather Data for Record 47 of Set 10 | Leshukonskoye\n",
      "Processing Weather Data for Record 48 of Set 10 | Tabriz\n",
      "Processing Weather Data for Record 49 of Set 10 | Heraclea\n",
      "Processing Weather Data for Record 50 of Set 10 | Ramnagar\n",
      "Processing Weather Data for Record 1 of Set 11 | Egvekinot\n",
      "Processing Weather Data for Record 2 of Set 11 | Teahupoo\n",
      "Processing Weather Data for Record 3 of Set 11 | Olafsvik\n",
      "City not found....Skipping............\n",
      "Processing Weather Data for Record 4 of Set 11 | Loa Janan\n",
      "Processing Weather Data for Record 5 of Set 11 | Yar-Sale\n",
      "Processing Weather Data for Record 6 of Set 11 | Magadan\n",
      "Processing Weather Data for Record 7 of Set 11 | Pudozh\n",
      "Processing Weather Data for Record 8 of Set 11 | Manicoré\n",
      "Processing Weather Data for Record 9 of Set 11 | Nizip\n",
      "Processing Weather Data for Record 10 of Set 11 | Eyl\n",
      "City not found....Skipping............\n",
      "Processing Weather Data for Record 11 of Set 11 | Taltal\n",
      "Processing Weather Data for Record 12 of Set 11 | Pangody\n",
      "Processing Weather Data for Record 13 of Set 11 | Kefamenanu\n",
      "Processing Weather Data for Record 14 of Set 11 | El Salvador\n",
      "Processing Weather Data for Record 15 of Set 11 | Buckeye\n",
      "Processing Weather Data for Record 16 of Set 11 | Oriximiná\n",
      "Processing Weather Data for Record 17 of Set 11 | Fukuechō\n",
      "Processing Weather Data for Record 18 of Set 11 | Kasongo-Lunda\n",
      "Processing Weather Data for Record 19 of Set 11 | Olenino\n",
      "Processing Weather Data for Record 20 of Set 11 | Līsakovsk\n",
      "Processing Weather Data for Record 21 of Set 11 | Christiansfeld\n",
      "Processing Weather Data for Record 22 of Set 11 | Puerto del Rosario\n",
      "Processing Weather Data for Record 23 of Set 11 | Hyères\n",
      "Processing Weather Data for Record 24 of Set 11 | Chokwé\n",
      "Processing Weather Data for Record 25 of Set 11 | Bouna\n",
      "Processing Weather Data for Record 26 of Set 11 | Baykit\n",
      "Processing Weather Data for Record 27 of Set 11 | Boyolangu\n",
      "Processing Weather Data for Record 28 of Set 11 | Quimper\n",
      "Processing Weather Data for Record 29 of Set 11 | Padang\n",
      "Processing Weather Data for Record 30 of Set 11 | Tire\n",
      "Processing Weather Data for Record 31 of Set 11 | Eshowe\n",
      "Processing Weather Data for Record 32 of Set 11 | Tessalit\n",
      "Processing Weather Data for Record 33 of Set 11 | Kosa\n",
      "Processing Weather Data for Record 34 of Set 11 | Kaya\n",
      "Processing Weather Data for Record 35 of Set 11 | Half Moon Bay\n"
     ]
    },
    {
     "name": "stdout",
     "output_type": "stream",
     "text": [
      "Processing Weather Data for Record 36 of Set 11 | Kokopo\n",
      "Processing Weather Data for Record 37 of Set 11 | San Pedro de Ycuamandiyú\n",
      "Processing Weather Data for Record 38 of Set 11 | Kilembe\n",
      "Processing Weather Data for Record 39 of Set 11 | Rayong\n",
      "Processing Weather Data for Record 40 of Set 11 | Shitanjing\n",
      "Processing Weather Data for Record 41 of Set 11 | Koungou\n",
      "Processing Weather Data for Record 42 of Set 11 | Nantucket\n",
      "Processing Weather Data for Record 43 of Set 11 | Aasiaat\n",
      "Processing Weather Data for Record 44 of Set 11 | Benghazi\n",
      "Processing Weather Data for Record 45 of Set 11 | Marmande\n",
      "Processing Weather Data for Record 46 of Set 11 | Ketchikan\n",
      "Processing Weather Data for Record 47 of Set 11 | Port-Gentil\n",
      "Processing Weather Data for Record 48 of Set 11 | Te Anau\n",
      "Processing Weather Data for Record 49 of Set 11 | Anicuns\n",
      "City not found....Skipping............\n",
      "Processing Weather Data for Record 50 of Set 11 | Mount Gambier\n",
      "Processing Weather Data for Record 1 of Set 12 | Arrecife\n",
      "Processing Weather Data for Record 2 of Set 12 | Klembivka\n",
      "Processing Weather Data for Record 3 of Set 12 | Kawalu\n",
      "Processing Weather Data for Record 4 of Set 12 | Goedereede\n",
      "Processing Weather Data for Record 5 of Set 12 | Ginir\n",
      "Processing Weather Data for Record 6 of Set 12 | Buchanan\n",
      "Processing Weather Data for Record 7 of Set 12 | Juneau\n",
      "Processing Weather Data for Record 8 of Set 12 | Sur\n",
      "Processing Weather Data for Record 9 of Set 12 | Machico\n",
      "Processing Weather Data for Record 10 of Set 12 | Arman'\n",
      "Processing Weather Data for Record 11 of Set 12 | Kupang\n",
      "Processing Weather Data for Record 12 of Set 12 | Revelganj\n",
      "Processing Weather Data for Record 13 of Set 12 | Sīwah\n",
      "Processing Weather Data for Record 14 of Set 12 | East Wenatchee\n",
      "Processing Weather Data for Record 15 of Set 12 | Finschhafen\n",
      "Processing Weather Data for Record 16 of Set 12 | Ghātsīla\n",
      "Processing Weather Data for Record 17 of Set 12 | Charter Township of Clinton\n",
      "Processing Weather Data for Record 18 of Set 12 | Novy Urengoy\n",
      "Processing Weather Data for Record 19 of Set 12 | Imbituba\n",
      "Processing Weather Data for Record 20 of Set 12 | Mareeba\n",
      "Processing Weather Data for Record 21 of Set 12 | Ligayan\n",
      "Processing Weather Data for Record 22 of Set 12 | Boundiali\n",
      "City not found....Skipping............\n",
      "Processing Weather Data for Record 23 of Set 12 | Pisco\n",
      "Processing Weather Data for Record 24 of Set 12 | Ulaangom\n",
      "Processing Weather Data for Record 25 of Set 12 | Bridlington\n",
      "Processing Weather Data for Record 26 of Set 12 | Nyurba\n",
      "Processing Weather Data for Record 27 of Set 12 | Djebeniana\n",
      "Processing Weather Data for Record 28 of Set 12 | Rumonge\n",
      "Processing Weather Data for Record 29 of Set 12 | Cap-aux-Meules\n",
      "Processing Weather Data for Record 30 of Set 12 | Esim\n",
      "Processing Weather Data for Record 31 of Set 12 | Tromsø\n",
      "Processing Weather Data for Record 32 of Set 12 | High Level\n",
      "Processing Weather Data for Record 33 of Set 12 | Westport\n",
      "City not found....Skipping............\n",
      "Processing Weather Data for Record 34 of Set 12 | Nigel\n",
      "Processing Weather Data for Record 35 of Set 12 | Lavrentiya\n",
      "Processing Weather Data for Record 36 of Set 12 | Necochea\n",
      "Processing Weather Data for Record 37 of Set 12 | Summerside\n",
      "Processing Weather Data for Record 38 of Set 12 | Yangi Marg`ilon\n",
      "Processing Weather Data for Record 39 of Set 12 | Bambanglipuro\n",
      "Processing Weather Data for Record 40 of Set 12 | Sovetskiy\n",
      "Processing Weather Data for Record 41 of Set 12 | Ust-Kuyga\n",
      "Processing Weather Data for Record 42 of Set 12 | Khromtau\n",
      "Processing Weather Data for Record 43 of Set 12 | Nabire\n",
      "Processing Weather Data for Record 44 of Set 12 | Hakkâri Province\n",
      "Processing Weather Data for Record 45 of Set 12 | Philadelphia\n",
      "Processing Weather Data for Record 46 of Set 12 | Coahuayana Viejo\n",
      "Processing Weather Data for Record 47 of Set 12 | Gouré\n",
      "Processing Weather Data for Record 48 of Set 12 | Yenagoa\n",
      "Processing Weather Data for Record 49 of Set 12 | Itaqui\n",
      "Processing Weather Data for Record 50 of Set 12 | Leeton\n",
      "City not found....Skipping............\n",
      "Processing Weather Data for Record 1 of Set 13 | São Filipe\n",
      "Processing Weather Data for Record 2 of Set 13 | Butembo\n",
      "Processing Weather Data for Record 3 of Set 13 | Boysun\n",
      "Processing Weather Data for Record 4 of Set 13 | Shingū\n",
      "Processing Weather Data for Record 5 of Set 13 | Salinópolis\n",
      "Processing Weather Data for Record 6 of Set 13 | Bukachacha\n",
      "Processing Weather Data for Record 7 of Set 13 | Staryy Nadym\n",
      "Processing Weather Data for Record 8 of Set 13 | Leeuwarden\n",
      "Processing Weather Data for Record 9 of Set 13 | Ersekë\n",
      "Processing Weather Data for Record 10 of Set 13 | Storforshei\n",
      "Processing Weather Data for Record 11 of Set 13 | Burns Lake\n",
      "Processing Weather Data for Record 12 of Set 13 | Camacha\n",
      "Processing Weather Data for Record 13 of Set 13 | Muravlenko\n",
      "Processing Weather Data for Record 14 of Set 13 | Lakatoro\n",
      "Processing Weather Data for Record 15 of Set 13 | Biryusinsk\n",
      "Processing Weather Data for Record 16 of Set 13 | San Juan de los Morros\n",
      "\n",
      "-----------------------------\n",
      "Data Retrival Complete\n",
      "-----------------------------\n"
     ]
    }
   ],
   "source": [
    "#Variables to keep track of response number\n",
    "#Setting at 1 to use 1-50 rather than 0-49 \n",
    "record_num = 1\n",
    "record_set = 1\n",
    "\n",
    "#Base url to make the api call\n",
    "base_url = 'http://api.openweathermap.org/data/2.5/weather?units=imperial&q='\n",
    "\n",
    "#Run the API call for each city\n",
    "print('''\n",
    "-----------------------------\n",
    "Beginning Data Retrieval\n",
    "-----------------------------''')\n",
    "for index, row in city_weather.iterrows(): \n",
    "    #Create the query url for the API call\n",
    "    query_url = base_url + row['City'] + ',' + row['Country'] + ',' '&APPID=' + weather_api_key\n",
    "    \n",
    "    #API call\n",
    "    response = requests.get(query_url).json()\n",
    "    \n",
    "    #Exception script in case the city is not found by the API call\n",
    "    try: \n",
    "        #Meassage to alert the user that the data is being retrieved\n",
    "        print(f'Processing Weather Data for Record {record_num} of Set {record_set} | {response[\"name\"]}')\n",
    "        \n",
    "        #Input data into the dataframe\n",
    "        city_weather.loc[index, 'Cloudiness'] = response['clouds']['all']\n",
    "        city_weather.loc[index, 'Date'] = response['dt']\n",
    "        city_weather.loc[index, 'Humidity'] = response['main']['humidity']\n",
    "        city_weather.loc[index, 'Lat'] = response['coord']['lat']\n",
    "        city_weather.loc[index, 'Lng'] = response['coord']['lon']\n",
    "        city_weather.loc[index, 'Max Temp'] = response['main']['temp_max']\n",
    "        city_weather.loc[index, 'Windspeed'] = response['wind']['speed']\n",
    "        \n",
    "        #Increase the record count\n",
    "        record_num += 1\n",
    "        \n",
    "    except (KeyError, IndexError):\n",
    "        print(\"City not found....Skipping............\")\n",
    "        \n",
    "    #If statement to handle the API call limits\n",
    "    if record_num == 51:\n",
    "        record_set += 1\n",
    "        record_num = 1\n",
    "        time.sleep(10)\n",
    "        \n",
    "print('''\n",
    "-----------------------------\n",
    "Data Retrival Complete\n",
    "-----------------------------''')"
   ]
  },
  {
   "cell_type": "markdown",
   "metadata": {},
   "source": [
    "### Convert Raw Data to DataFrame\n",
    "* Export the city data into a .csv.\n",
    "* Display the DataFrame"
   ]
  },
  {
   "cell_type": "code",
   "execution_count": 6,
   "metadata": {
    "scrolled": true
   },
   "outputs": [
    {
     "data": {
      "text/html": [
       "<div>\n",
       "<style scoped>\n",
       "    .dataframe tbody tr th:only-of-type {\n",
       "        vertical-align: middle;\n",
       "    }\n",
       "\n",
       "    .dataframe tbody tr th {\n",
       "        vertical-align: top;\n",
       "    }\n",
       "\n",
       "    .dataframe thead th {\n",
       "        text-align: right;\n",
       "    }\n",
       "</style>\n",
       "<table border=\"1\" class=\"dataframe\">\n",
       "  <thead>\n",
       "    <tr style=\"text-align: right;\">\n",
       "      <th></th>\n",
       "      <th>City</th>\n",
       "      <th>Country</th>\n",
       "      <th>Cloudiness</th>\n",
       "      <th>Date</th>\n",
       "      <th>Humidity</th>\n",
       "      <th>Lat</th>\n",
       "      <th>Lng</th>\n",
       "      <th>Max Temp</th>\n",
       "      <th>Windspeed</th>\n",
       "    </tr>\n",
       "  </thead>\n",
       "  <tbody>\n",
       "    <tr>\n",
       "      <th>0</th>\n",
       "      <td>taoudenni</td>\n",
       "      <td>ML</td>\n",
       "      <td>0</td>\n",
       "      <td>1603217183</td>\n",
       "      <td>15</td>\n",
       "      <td>22.68</td>\n",
       "      <td>-3.98</td>\n",
       "      <td>88.02</td>\n",
       "      <td>9.15</td>\n",
       "    </tr>\n",
       "    <tr>\n",
       "      <th>1</th>\n",
       "      <td>senanga</td>\n",
       "      <td>ZM</td>\n",
       "      <td>0</td>\n",
       "      <td>1603217183</td>\n",
       "      <td>13</td>\n",
       "      <td>-16.12</td>\n",
       "      <td>23.27</td>\n",
       "      <td>83.25</td>\n",
       "      <td>5.14</td>\n",
       "    </tr>\n",
       "    <tr>\n",
       "      <th>2</th>\n",
       "      <td>safwah</td>\n",
       "      <td>SA</td>\n",
       "      <td></td>\n",
       "      <td></td>\n",
       "      <td></td>\n",
       "      <td></td>\n",
       "      <td></td>\n",
       "      <td></td>\n",
       "      <td></td>\n",
       "    </tr>\n",
       "    <tr>\n",
       "      <th>3</th>\n",
       "      <td>nanortalik</td>\n",
       "      <td>GL</td>\n",
       "      <td>100</td>\n",
       "      <td>1603217184</td>\n",
       "      <td>85</td>\n",
       "      <td>60.14</td>\n",
       "      <td>-45.24</td>\n",
       "      <td>37.94</td>\n",
       "      <td>4.34</td>\n",
       "    </tr>\n",
       "    <tr>\n",
       "      <th>4</th>\n",
       "      <td>ringebu</td>\n",
       "      <td>NO</td>\n",
       "      <td>100</td>\n",
       "      <td>1603217184</td>\n",
       "      <td>94</td>\n",
       "      <td>61.52</td>\n",
       "      <td>10.17</td>\n",
       "      <td>30.99</td>\n",
       "      <td>3</td>\n",
       "    </tr>\n",
       "  </tbody>\n",
       "</table>\n",
       "</div>"
      ],
      "text/plain": [
       "         City Country Cloudiness        Date Humidity    Lat    Lng Max Temp  \\\n",
       "0   taoudenni      ML          0  1603217183       15  22.68  -3.98    88.02   \n",
       "1     senanga      ZM          0  1603217183       13 -16.12  23.27    83.25   \n",
       "2      safwah      SA                                                          \n",
       "3  nanortalik      GL        100  1603217184       85  60.14 -45.24    37.94   \n",
       "4     ringebu      NO        100  1603217184       94  61.52  10.17    30.99   \n",
       "\n",
       "  Windspeed  \n",
       "0      9.15  \n",
       "1      5.14  \n",
       "2            \n",
       "3      4.34  \n",
       "4         3  "
      ]
     },
     "execution_count": 6,
     "metadata": {},
     "output_type": "execute_result"
    }
   ],
   "source": [
    "#weather_data = pd.DataFrame(city_weather)\n",
    "city_weather.head()"
   ]
  },
  {
   "cell_type": "code",
   "execution_count": 7,
   "metadata": {},
   "outputs": [],
   "source": [
    "# Export & Save Data Into a .csv.\n",
    "#city_weather.to_csv(\"output_data/cities.csv\")"
   ]
  },
  {
   "cell_type": "code",
   "execution_count": null,
   "metadata": {},
   "outputs": [],
   "source": []
  },
  {
   "cell_type": "markdown",
   "metadata": {},
   "source": [
    "## Inspect the data and remove the cities where the humidity > 100%.\n",
    "----\n",
    "Skip this step if there are no cities that have humidity > 100%. "
   ]
  },
  {
   "cell_type": "code",
   "execution_count": null,
   "metadata": {
    "scrolled": true
   },
   "outputs": [],
   "source": []
  },
  {
   "cell_type": "code",
   "execution_count": 8,
   "metadata": {},
   "outputs": [],
   "source": [
    "#  Get the indices of cities that have humidity over 100%.\n"
   ]
  },
  {
   "cell_type": "code",
   "execution_count": 9,
   "metadata": {},
   "outputs": [
    {
     "data": {
      "text/html": [
       "<div>\n",
       "<style scoped>\n",
       "    .dataframe tbody tr th:only-of-type {\n",
       "        vertical-align: middle;\n",
       "    }\n",
       "\n",
       "    .dataframe tbody tr th {\n",
       "        vertical-align: top;\n",
       "    }\n",
       "\n",
       "    .dataframe thead th {\n",
       "        text-align: right;\n",
       "    }\n",
       "</style>\n",
       "<table border=\"1\" class=\"dataframe\">\n",
       "  <thead>\n",
       "    <tr style=\"text-align: right;\">\n",
       "      <th></th>\n",
       "      <th>City</th>\n",
       "      <th>Country</th>\n",
       "      <th>Cloudiness</th>\n",
       "      <th>Date</th>\n",
       "      <th>Humidity</th>\n",
       "      <th>Lat</th>\n",
       "      <th>Lng</th>\n",
       "      <th>Max Temp</th>\n",
       "      <th>Windspeed</th>\n",
       "    </tr>\n",
       "  </thead>\n",
       "  <tbody>\n",
       "    <tr>\n",
       "      <th>0</th>\n",
       "      <td>taoudenni</td>\n",
       "      <td>ML</td>\n",
       "      <td>0</td>\n",
       "      <td>1603217183</td>\n",
       "      <td>15</td>\n",
       "      <td>22.68</td>\n",
       "      <td>-3.98</td>\n",
       "      <td>88.02</td>\n",
       "      <td>9.15</td>\n",
       "    </tr>\n",
       "    <tr>\n",
       "      <th>1</th>\n",
       "      <td>senanga</td>\n",
       "      <td>ZM</td>\n",
       "      <td>0</td>\n",
       "      <td>1603217183</td>\n",
       "      <td>13</td>\n",
       "      <td>-16.12</td>\n",
       "      <td>23.27</td>\n",
       "      <td>83.25</td>\n",
       "      <td>5.14</td>\n",
       "    </tr>\n",
       "    <tr>\n",
       "      <th>3</th>\n",
       "      <td>nanortalik</td>\n",
       "      <td>GL</td>\n",
       "      <td>100</td>\n",
       "      <td>1603217184</td>\n",
       "      <td>85</td>\n",
       "      <td>60.14</td>\n",
       "      <td>-45.24</td>\n",
       "      <td>37.94</td>\n",
       "      <td>4.34</td>\n",
       "    </tr>\n",
       "    <tr>\n",
       "      <th>4</th>\n",
       "      <td>ringebu</td>\n",
       "      <td>NO</td>\n",
       "      <td>100</td>\n",
       "      <td>1603217184</td>\n",
       "      <td>94</td>\n",
       "      <td>61.52</td>\n",
       "      <td>10.17</td>\n",
       "      <td>30.99</td>\n",
       "      <td>3</td>\n",
       "    </tr>\n",
       "    <tr>\n",
       "      <th>5</th>\n",
       "      <td>tasiilaq</td>\n",
       "      <td>GL</td>\n",
       "      <td>75</td>\n",
       "      <td>1603217148</td>\n",
       "      <td>93</td>\n",
       "      <td>65.61</td>\n",
       "      <td>-37.64</td>\n",
       "      <td>32.00</td>\n",
       "      <td>20.8</td>\n",
       "    </tr>\n",
       "  </tbody>\n",
       "</table>\n",
       "</div>"
      ],
      "text/plain": [
       "         City Country Cloudiness        Date Humidity    Lat    Lng  Max Temp  \\\n",
       "0   taoudenni      ML          0  1603217183       15  22.68  -3.98     88.02   \n",
       "1     senanga      ZM          0  1603217183       13 -16.12  23.27     83.25   \n",
       "3  nanortalik      GL        100  1603217184       85  60.14 -45.24     37.94   \n",
       "4     ringebu      NO        100  1603217184       94  61.52  10.17     30.99   \n",
       "5    tasiilaq      GL         75  1603217148       93  65.61 -37.64     32.00   \n",
       "\n",
       "  Windspeed  \n",
       "0      9.15  \n",
       "1      5.14  \n",
       "3      4.34  \n",
       "4         3  \n",
       "5      20.8  "
      ]
     },
     "execution_count": 9,
     "metadata": {},
     "output_type": "execute_result"
    }
   ],
   "source": [
    "# Make a new DataFrame equal to the city data to drop all humidity outliers by index.\n",
    "# Passing \"inplace=False\" will make a copy of the city_data DataFrame, which we call \"clean_city_data\".\n",
    "\n",
    "#Clean dataframe to remove cities that were not found\n",
    "city_weather['Max Temp'] = city_weather['Max Temp'].replace('', np.nan)\n",
    "city_weather = city_weather.dropna()\n",
    "\n",
    "#Preview the dataframe\n",
    "city_weather.head()"
   ]
  },
  {
   "cell_type": "code",
   "execution_count": 10,
   "metadata": {},
   "outputs": [],
   "source": [
    "# Export & Save Data Into a .csv.\n",
    "city_weather.to_csv(\"output_data/cities.csv\")\n"
   ]
  },
  {
   "cell_type": "markdown",
   "metadata": {},
   "source": [
    "## Plotting the Data\n",
    "* Use proper labeling of the plots using plot titles (including date of analysis) and axes labels.\n",
    "* Save the plotted figures as .pngs."
   ]
  },
  {
   "cell_type": "markdown",
   "metadata": {},
   "source": [
    "## Latitude vs. Temperature Plot"
   ]
  },
  {
   "cell_type": "code",
   "execution_count": 11,
   "metadata": {
    "scrolled": false
   },
   "outputs": [
    {
     "data": {
      "image/png": "[encoded data removed]",
      "text/plain": [
       "<Figure size 432x288 with 1 Axes>"
      ]
     },
     "metadata": {
      "needs_background": "light"
     },
     "output_type": "display_data"
    }
   ],
   "source": [
    "# Build a scatter plot for each data type\n",
    "plt.scatter(city_weather[\"Lat\"], city_weather[\"Max Temp\"], marker=\"o\")\n",
    "\n",
    "# Incorporate the other graph properties\n",
    "plt.title(f'City Latitude vs. Max Temperature {time.strftime(\"%m/%d/%Y\")}')\n",
    "plt.ylabel(\"Temperature (F)\")\n",
    "plt.xlabel(\"Latitude\")\n",
    "plt.grid(True)\n",
    "\n",
    "# Save the figure\n",
    "plt.savefig(\"output_data/City Latitude vs. Max Temperature.png\")\n",
    "\n",
    "# Show plot\n",
    "plt.show()"
   ]
  },
  {
   "cell_type": "code",
   "execution_count": 12,
   "metadata": {},
   "outputs": [],
   "source": [
    "# Latitude vs Temperature plot shows a correlation between the latitude and temperature."
   ]
  },
  {
   "cell_type": "markdown",
   "metadata": {},
   "source": [
    "## Latitude vs. Humidity Plot"
   ]
  },
  {
   "cell_type": "code",
   "execution_count": 13,
   "metadata": {
    "scrolled": true
   },
   "outputs": [
    {
     "data": {
      "image/png": "[encoded data removed]",
      "text/plain": [
       "<Figure size 432x288 with 1 Axes>"
      ]
     },
     "metadata": {
      "needs_background": "light"
     },
     "output_type": "display_data"
    }
   ],
   "source": [
    "# Build a scatter plot for each data type\n",
    "plt.scatter(city_weather[\"Lat\"], city_weather[\"Humidity\"], marker=\"o\")\n",
    "\n",
    "# Incorporate the other graph properties\n",
    "plt.title(f'City Latitude vs. Humidity {time.strftime(\"%m/%d/%Y\")}')\n",
    "plt.ylabel(\"Humidity\")\n",
    "plt.xlabel(\"Latitude\")\n",
    "plt.grid(True)\n",
    "\n",
    "# Save the figure\n",
    "plt.savefig(\"output_data/City Latitude vs. Humidity.png\")\n",
    "\n",
    "# Show plot\n",
    "plt.show()"
   ]
  },
  {
   "cell_type": "code",
   "execution_count": 14,
   "metadata": {},
   "outputs": [],
   "source": [
    "#In this Latitude vs Humidity plot we see there is not relation between latitude and humdity."
   ]
  },
  {
   "cell_type": "markdown",
   "metadata": {},
   "source": [
    "## Latitude vs. Cloudiness Plot"
   ]
  },
  {
   "cell_type": "code",
   "execution_count": 15,
   "metadata": {
    "scrolled": true
   },
   "outputs": [
    {
     "data": {
      "image/png": "[encoded data removed]",
      "text/plain": [
       "<Figure size 432x288 with 1 Axes>"
      ]
     },
     "metadata": {
      "needs_background": "light"
     },
     "output_type": "display_data"
    }
   ],
   "source": [
    "# Build a scatter plot for each data type\n",
    "plt.scatter(city_weather[\"Lat\"], city_weather[\"Cloudiness\"], marker=\"o\")\n",
    "\n",
    "# Incorporate the other graph properties\n",
    "plt.title(f'City Latitude vs. Max Cloudiness {time.strftime(\"%m/%d/%Y\")}')\n",
    "plt.ylabel(\"Cloudiness\")\n",
    "plt.xlabel(\"Latitude\")\n",
    "plt.grid(True)\n",
    "\n",
    "# Save the figure\n",
    "plt.savefig(\"output_data/City Latitude vs. Cloudiness.png\")\n",
    "\n",
    "# Show plot\n",
    "plt.show()"
   ]
  },
  {
   "cell_type": "code",
   "execution_count": 16,
   "metadata": {},
   "outputs": [],
   "source": [
    "#Latitude vs Cloudiness shows no direct relation between the two factors."
   ]
  },
  {
   "cell_type": "markdown",
   "metadata": {},
   "source": [
    "## Latitude vs. Wind Speed Plot"
   ]
  },
  {
   "cell_type": "code",
   "execution_count": 17,
   "metadata": {
    "scrolled": true
   },
   "outputs": [
    {
     "data": {
      "image/png": "[encoded data removed]",
      "text/plain": [
       "<Figure size 432x288 with 1 Axes>"
      ]
     },
     "metadata": {
      "needs_background": "light"
     },
     "output_type": "display_data"
    }
   ],
   "source": [
    "# Build a scatter plot for each data type\n",
    "plt.scatter(city_weather[\"Lat\"], city_weather[\"Windspeed\"], marker=\"o\")\n",
    "\n",
    "# Incorporate the other graph properties\n",
    "plt.title(f'City Latitude vs. Wind Speed {time.strftime(\"%m/%d/%Y\")}')\n",
    "plt.ylabel(\"Wind Speed\")\n",
    "plt.xlabel(\"Latitude\")\n",
    "plt.grid(True)\n",
    "\n",
    "# Save the figure\n",
    "plt.savefig(\"output_data/City Latitude vs. Wind Speed.png\")\n",
    "\n",
    "# Show plot\n",
    "plt.show()"
   ]
  },
  {
   "cell_type": "code",
   "execution_count": 18,
   "metadata": {},
   "outputs": [],
   "source": [
    "#Latitude vs Wind Speed there is a relation between latitude and wind speed but not as strong of a correlation as temperature."
   ]
  },
  {
   "cell_type": "markdown",
   "metadata": {},
   "source": [
    "## Linear Regression"
   ]
  },
  {
   "cell_type": "code",
   "execution_count": 36,
   "metadata": {},
   "outputs": [],
   "source": [
    "# Define northern southern hemisphere\n",
    "northern_hemisphere = city_weather.loc[city_weather[\"Lat\"] >= 0]\n",
    "southern_hemisphere = city_weather.loc[city_weather[\"Lat\"] < 0]"
   ]
  },
  {
   "cell_type": "markdown",
   "metadata": {},
   "source": [
    "####  Northern Hemisphere - Max Temp vs. Latitude Linear Regression"
   ]
  },
  {
   "cell_type": "code",
   "execution_count": 37,
   "metadata": {
    "scrolled": true
   },
   "outputs": [
    {
     "name": "stdout",
     "output_type": "stream",
     "text": [
      "The r-squared is: 0.7590865206214932\n"
     ]
    },
    {
     "data": {
      "image/png": "[encoded data removed]",
      "text/plain": [
       "<Figure size 432x288 with 1 Axes>"
      ]
     },
     "metadata": {
      "needs_background": "light"
     },
     "output_type": "display_data"
    }
   ],
   "source": [
    "# Northern Hemisphere - Max Temp vs. Latitude Linear Regression\n",
    "x_values = northern_hemisphere[\"Lat\"].astype(float)\n",
    "y_values = northern_hemisphere[\"Max Temp\"].astype(float)\n",
    "(slope, intercept, rvalue, pvalue, stderr) = linregress(x_values, y_values)\n",
    "regress_values = x_values * slope + intercept\n",
    "line_eq = \"y = \" + str(round(slope,2)) + \"x + \" + str(round(intercept,2))\n",
    "plt.scatter(x_values,y_values)\n",
    "plt.plot(x_values,regress_values,\"r-\")\n",
    "plt.annotate(line_eq,(6,30),fontsize=15,color=\"red\")\n",
    "plt.xlabel(\"Latitude\")\n",
    "plt.ylabel(\"Max Temp (F)\")\n",
    "plt.title(\"Northern Hemisphere - Max Temp vs. Latitude Linear Regression\")\n",
    "print(f\"The r-squared is: {rvalue**2}\")\n",
    "#plt.show()\n",
    "\n",
    "# Save the figure\n",
    "plt.savefig(\"output_data/Northern Hemisphere - Max Temp vs. Latitude Linear Regression.png\")"
   ]
  },
  {
   "cell_type": "code",
   "execution_count": 38,
   "metadata": {},
   "outputs": [],
   "source": [
    "#Based on the high r-squared value Temperature and Latitude are related for the Northern Hemisphere."
   ]
  },
  {
   "cell_type": "markdown",
   "metadata": {},
   "source": [
    "####  Southern Hemisphere - Max Temp vs. Latitude Linear Regression"
   ]
  },
  {
   "cell_type": "code",
   "execution_count": 39,
   "metadata": {
    "scrolled": true
   },
   "outputs": [
    {
     "name": "stdout",
     "output_type": "stream",
     "text": [
      "The r-squared is: 0.5468491978357117\n"
     ]
    },
    {
     "data": {
      "image/png": "[encoded data removed]",
      "text/plain": [
       "<Figure size 432x288 with 1 Axes>"
      ]
     },
     "metadata": {
      "needs_background": "light"
     },
     "output_type": "display_data"
    }
   ],
   "source": [
    "# Southern Hemisphere - Max Temp vs. Latitude Linear Regression\n",
    "x_values = southern_hemisphere[\"Lat\"].astype(float)\n",
    "y_values = southern_hemisphere[\"Max Temp\"].astype(float)\n",
    "(slope, intercept, rvalue, pvalue, stderr) = linregress(x_values, y_values)\n",
    "regress_values = x_values * slope + intercept\n",
    "line_eq = \"y = \" + str(round(slope,2)) + \"x + \" + str(round(intercept,2))\n",
    "plt.scatter(x_values,y_values)\n",
    "plt.plot(x_values,regress_values,\"r-\")\n",
    "plt.annotate(line_eq,(-30,50),fontsize=15,color=\"red\")\n",
    "plt.xlabel(\"Latitude\")\n",
    "plt.ylabel(\"Max Temp (F)\")\n",
    "plt.title(\"Southern Hemisphere - Max Temp vs. Latitude Linear Regression\")\n",
    "print(f\"The r-squared is: {rvalue**2}\")\n",
    "#plt.show()\n",
    "\n",
    "# Save the figure\n",
    "plt.savefig(\"output_data/Southern Hemisphere - Max Temp vs. Latitude Linear Regression.png\")"
   ]
  },
  {
   "cell_type": "code",
   "execution_count": 40,
   "metadata": {},
   "outputs": [],
   "source": [
    "#The r-squared value for Temperature and Latitude are acceptable but not as strong as the Northern Hemisphere."
   ]
  },
  {
   "cell_type": "markdown",
   "metadata": {},
   "source": [
    "####  Northern Hemisphere - Humidity (%) vs. Latitude Linear Regression"
   ]
  },
  {
   "cell_type": "code",
   "execution_count": 41,
   "metadata": {
    "scrolled": true
   },
   "outputs": [
    {
     "name": "stdout",
     "output_type": "stream",
     "text": [
      "The r-squared is: 0.1510178434696638\n"
     ]
    },
    {
     "data": {
      "image/png": "[encoded data removed]",
      "text/plain": [
       "<Figure size 432x288 with 1 Axes>"
      ]
     },
     "metadata": {
      "needs_background": "light"
     },
     "output_type": "display_data"
    }
   ],
   "source": [
    "# Northern Hemisphere - Humidity vs. Latitude Linear Regression\n",
    "x_values = northern_hemisphere[\"Lat\"].astype(float)\n",
    "y_values = northern_hemisphere[\"Humidity\"].astype(float)\n",
    "(slope, intercept, rvalue, pvalue, stderr) = linregress(x_values, y_values)\n",
    "regress_values = x_values * slope + intercept\n",
    "line_eq = \"y = \" + str(round(slope,2)) + \"x + \" + str(round(intercept,2))\n",
    "plt.scatter(x_values,y_values)\n",
    "plt.plot(x_values,regress_values,\"r-\")\n",
    "plt.annotate(line_eq,(45,50),fontsize=15,color=\"red\")\n",
    "plt.xlabel(\"Latitude\")\n",
    "plt.ylabel(\"Humidity (%)\")\n",
    "plt.title(\"Northern Hemisphere - Humidity (%) vs. Latitude Linear Regression\")\n",
    "print(f\"The r-squared is: {rvalue**2}\")\n",
    "#plt.show()\n",
    "\n",
    "# Save the figure\n",
    "plt.savefig(\"output_data/Northern Hemisphere - Humidity (%) vs. Latitude Linear Regression.png\")"
   ]
  },
  {
   "cell_type": "code",
   "execution_count": 42,
   "metadata": {},
   "outputs": [],
   "source": [
    "#This plot shows there is not a strong relation between Latitude and Humidity in the Northern Hemisphere."
   ]
  },
  {
   "cell_type": "markdown",
   "metadata": {},
   "source": [
    "####  Southern Hemisphere - Humidity (%) vs. Latitude Linear Regression"
   ]
  },
  {
   "cell_type": "code",
   "execution_count": 43,
   "metadata": {
    "scrolled": true
   },
   "outputs": [
    {
     "name": "stdout",
     "output_type": "stream",
     "text": [
      "The r-squared is: 0.00013436411497367936\n"
     ]
    },
    {
     "data": {
      "image/png": "[encoded data removed]",
      "text/plain": [
       "<Figure size 432x288 with 1 Axes>"
      ]
     },
     "metadata": {
      "needs_background": "light"
     },
     "output_type": "display_data"
    }
   ],
   "source": [
    "# Southern Hemisphere - Humidity vs. Latitude Linear Regression\n",
    "x_values = southern_hemisphere[\"Lat\"].astype(float)\n",
    "y_values = southern_hemisphere[\"Humidity\"].astype(float)\n",
    "(slope, intercept, rvalue, pvalue, stderr) = linregress(x_values, y_values)\n",
    "regress_values = x_values * slope + intercept\n",
    "line_eq = \"y = \" + str(round(slope,2)) + \"x + \" + str(round(intercept,2))\n",
    "plt.scatter(x_values,y_values)\n",
    "plt.plot(x_values,regress_values,\"r-\")\n",
    "plt.annotate(line_eq,(-40,50),fontsize=15,color=\"red\")\n",
    "plt.xlabel(\"Latitude\")\n",
    "plt.ylabel(\"Humidity (%)\")\n",
    "plt.title(\"Southern Hemisphere - Humidity (%) vs. Latitude Linear Regression\")\n",
    "print(f\"The r-squared is: {rvalue**2}\")\n",
    "#plt.show()\n",
    "\n",
    "# Save the figure\n",
    "plt.savefig(\"output_data/Southern Hemisphere - Humidity (%) vs. Latitude Linear Regression.png\")"
   ]
  },
  {
   "cell_type": "code",
   "execution_count": 44,
   "metadata": {},
   "outputs": [],
   "source": [
    "#This plot is ever more sparce than the Northern Hemisphere and shows no strong relation between Latitude and Humidity."
   ]
  },
  {
   "cell_type": "markdown",
   "metadata": {},
   "source": [
    "####  Northern Hemisphere - Cloudiness (%) vs. Latitude Linear Regression"
   ]
  },
  {
   "cell_type": "code",
   "execution_count": 45,
   "metadata": {
    "scrolled": false
   },
   "outputs": [
    {
     "name": "stdout",
     "output_type": "stream",
     "text": [
      "The r-squared is: 0.1024690993432722\n"
     ]
    },
    {
     "data": {
      "image/png": "[encoded data removed]",
      "text/plain": [
       "<Figure size 432x288 with 1 Axes>"
      ]
     },
     "metadata": {
      "needs_background": "light"
     },
     "output_type": "display_data"
    }
   ],
   "source": [
    "# Northern Hemisphere - Cloudiness vs. Latitude Linear Regression\n",
    "x_values = northern_hemisphere[\"Lat\"].astype(float)\n",
    "y_values = northern_hemisphere[\"Cloudiness\"].astype(float)\n",
    "(slope, intercept, rvalue, pvalue, stderr) = linregress(x_values, y_values)\n",
    "regress_values = x_values * slope + intercept\n",
    "line_eq = \"y = \" + str(round(slope,2)) + \"x + \" + str(round(intercept,2))\n",
    "plt.scatter(x_values,y_values)\n",
    "plt.plot(x_values,regress_values,\"r-\")\n",
    "plt.annotate(line_eq,(15,62),fontsize=15,color=\"red\")\n",
    "plt.xlabel(\"Latitude\")\n",
    "plt.ylabel(\"Cloudiness (%)\")\n",
    "plt.title(\"Northern Hemisphere - Cloudiness (%) vs. Latitude Linear Regression\")\n",
    "print(f\"The r-squared is: {rvalue**2}\")\n",
    "#plt.show()\n",
    "\n",
    "# Save the figure\n",
    "plt.savefig(\"output_data/Northern Hemisphere - Cloudiness (%) vs. Latitude Linear Regression.png\")"
   ]
  },
  {
   "cell_type": "code",
   "execution_count": 46,
   "metadata": {},
   "outputs": [],
   "source": [
    "#There is not strong connection between Latitude and Cloudiness."
   ]
  },
  {
   "cell_type": "markdown",
   "metadata": {},
   "source": [
    "####  Southern Hemisphere - Cloudiness (%) vs. Latitude Linear Regression"
   ]
  },
  {
   "cell_type": "code",
   "execution_count": 47,
   "metadata": {
    "scrolled": false
   },
   "outputs": [
    {
     "name": "stdout",
     "output_type": "stream",
     "text": [
      "The r-squared is: 0.0211371003745239\n"
     ]
    },
    {
     "data": {
      "image/png": "[encoded data removed]",
      "text/plain": [
       "<Figure size 432x288 with 1 Axes>"
      ]
     },
     "metadata": {
      "needs_background": "light"
     },
     "output_type": "display_data"
    }
   ],
   "source": [
    "# Southern Hemisphere - Cloudiness vs. Latitude Linear Regression\n",
    "x_values = southern_hemisphere[\"Lat\"].astype(float)\n",
    "y_values = southern_hemisphere[\"Cloudiness\"].astype(float)\n",
    "(slope, intercept, rvalue, pvalue, stderr) = linregress(x_values, y_values)\n",
    "regress_values = x_values * slope + intercept\n",
    "line_eq = \"y = \" + str(round(slope,2)) + \"x + \" + str(round(intercept,2))\n",
    "plt.scatter(x_values,y_values)\n",
    "plt.plot(x_values,regress_values,\"r-\")\n",
    "plt.annotate(line_eq,(-45,25),fontsize=15,color=\"red\")\n",
    "plt.xlabel(\"Latitude\")\n",
    "plt.ylabel(\"Cloudiness (%)\")\n",
    "plt.title(\"Southern Hemisphere - Cloudiness (%) vs. Latitude Linear Regression\")\n",
    "print(f\"The r-squared is: {rvalue**2}\")\n",
    "#plt.show()\n",
    "\n",
    "# Save the figure\n",
    "plt.savefig(\"output_data/Southern Hemisphere - Cloudiness (%) vs. Latitude Linear Regression.png\")"
   ]
  },
  {
   "cell_type": "code",
   "execution_count": 48,
   "metadata": {},
   "outputs": [],
   "source": [
    "#This plot is even further spread out than the Northen Hemisphere and has no strong connection between Latitude and Cloudiness."
   ]
  },
  {
   "cell_type": "markdown",
   "metadata": {},
   "source": [
    "####  Northern Hemisphere - Wind Speed (mph) vs. Latitude Linear Regression"
   ]
  },
  {
   "cell_type": "code",
   "execution_count": 49,
   "metadata": {},
   "outputs": [
    {
     "name": "stdout",
     "output_type": "stream",
     "text": [
      "The r-squared is: 0.0029577656692986835\n"
     ]
    },
    {
     "data": {
      "image/png": "[encoded data removed]",
      "text/plain": [
       "<Figure size 432x288 with 1 Axes>"
      ]
     },
     "metadata": {
      "needs_background": "light"
     },
     "output_type": "display_data"
    }
   ],
   "source": [
    "# Northern Hemisphere - Wind Speed vs. Latitude Linear Regression\n",
    "x_values = northern_hemisphere[\"Lat\"].astype(float)\n",
    "y_values = northern_hemisphere[\"Windspeed\"].astype(float)\n",
    "(slope, intercept, rvalue, pvalue, stderr) = linregress(x_values, y_values)\n",
    "regress_values = x_values * slope + intercept\n",
    "line_eq = \"y = \" + str(round(slope,2)) + \"x + \" + str(round(intercept,2))\n",
    "plt.scatter(x_values,y_values)\n",
    "plt.plot(x_values,regress_values,\"r-\")\n",
    "plt.annotate(line_eq,(10,15),fontsize=15,color=\"red\")\n",
    "plt.xlabel(\"Latitude\")\n",
    "plt.ylabel(\"Wind Speed (mph)\")\n",
    "plt.title(\"Northern Hemisphere - Wind Speed (mph) vs. Latitude Linear Regression\")\n",
    "print(f\"The r-squared is: {rvalue**2}\")\n",
    "#plt.show()\n",
    "\n",
    "# Save the figure\n",
    "plt.savefig(\"output_data/Northern Hemisphere - Wind Speed (mph) vs. Latitude Linear Regression.png\")"
   ]
  },
  {
   "cell_type": "code",
   "execution_count": 50,
   "metadata": {},
   "outputs": [],
   "source": [
    "#This plot shows a relation between Latitude and Wind Speed in the Northern Hemisphere."
   ]
  },
  {
   "cell_type": "markdown",
   "metadata": {},
   "source": [
    "####  Southern Hemisphere - Wind Speed (mph) vs. Latitude Linear Regression"
   ]
  },
  {
   "cell_type": "code",
   "execution_count": 51,
   "metadata": {},
   "outputs": [
    {
     "name": "stdout",
     "output_type": "stream",
     "text": [
      "The r-squared is: 0.01895580373414936\n"
     ]
    },
    {
     "data": {
      "image/png": "[encoded data removed]",
      "text/plain": [
       "<Figure size 432x288 with 1 Axes>"
      ]
     },
     "metadata": {
      "needs_background": "light"
     },
     "output_type": "display_data"
    }
   ],
   "source": [
    "# Southern Hemisphere - Wind Speed vs. Latitude Linear Regression\n",
    "x_values = southern_hemisphere[\"Lat\"].astype(float)\n",
    "y_values = southern_hemisphere[\"Windspeed\"].astype(float)\n",
    "(slope, intercept, rvalue, pvalue, stderr) = linregress(x_values, y_values)\n",
    "regress_values = x_values * slope + intercept\n",
    "line_eq = \"y = \" + str(round(slope,2)) + \"x + \" + str(round(intercept,2))\n",
    "plt.scatter(x_values,y_values)\n",
    "plt.plot(x_values,regress_values,\"r-\")\n",
    "plt.annotate(line_eq,(-45,22),fontsize=15,color=\"red\")\n",
    "plt.xlabel(\"Latitude\")\n",
    "plt.ylabel(\"Wind Speed (mph)\")\n",
    "plt.title(\"Southern Hemisphere - Wind Speed (mph) vs. Latitude Linear Regression\")\n",
    "print(f\"The r-squared is: {rvalue**2}\")\n",
    "#plt.show()\n",
    "\n",
    "# Save the figure\n",
    "plt.savefig(\"output_data/Southern Hemisphere - Wind Speed (mph) vs. Latitude Linear Regression.png\")"
   ]
  },
  {
   "cell_type": "code",
   "execution_count": 35,
   "metadata": {},
   "outputs": [],
   "source": [
    "#The Southern Hemisphere shows less of a correlation between Latitude and Wind Speed in the Southern Hemisphere."
   ]
  }
 ],
 "metadata": {
  "anaconda-cloud": {},
  "kernel_info": {
   "name": "python3"
  },
  "kernelspec": {
   "display_name": "Python 3",
   "language": "python",
   "name": "python3"
  },
  "language_info": {
   "codemirror_mode": {
    "name": "ipython",
    "version": 3
   },
   "file_extension": ".py",
   "mimetype": "text/x-python",
   "name": "python",
   "nbconvert_exporter": "python",
   "pygments_lexer": "ipython3",
   "version": "3.6.10"
  },
  "latex_envs": {
   "LaTeX_envs_menu_present": true,
   "autoclose": false,
   "autocomplete": true,
   "bibliofile": "biblio.bib",
   "cite_by": "apalike",
   "current_citInitial": 1,
   "eqLabelWithNumbers": true,
   "eqNumInitial": 1,
   "hotkeys": {
    "equation": "Ctrl-E",
    "itemize": "Ctrl-I"
   },
   "labels_anchors": false,
   "latex_user_defs": false,
   "report_style_numbering": false,
   "user_envs_cfg": false
  },
  "nteract": {
   "version": "0.12.3"
  }
 },
 "nbformat": 4,
 "nbformat_minor": 2
}
