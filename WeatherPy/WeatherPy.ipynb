{
 "cells": [
  {
   "cell_type": "markdown",
   "metadata": {},
   "source": [
    "# WeatherPy\n",
    "----\n",
    "\n",
    "#### Note\n",
    "* Instructions have been included for each segment. You do not have to follow them exactly, but they are included to help you think through the steps."
   ]
  },
  {
   "cell_type": "code",
   "execution_count": 1,
   "metadata": {},
   "outputs": [],
   "source": [
    "# Observations\n",
    "# 1: Highest temperature is found at 0 latitude and as the latidude increases or decreases, temperature drops.\n",
    "# 2: Southern Hemisphere climates tend to be slightly milder than those at similar latitudes in the Northern Hemisphere.\n",
    "# 3: Latitude doesn't have a correlation or strong influence on cloudiness in either hemisphere. "
   ]
  },
  {
   "cell_type": "code",
   "execution_count": 2,
   "metadata": {
    "scrolled": true
   },
   "outputs": [],
   "source": [
    "# Dependencies and Setup\n",
    "import matplotlib.pyplot as plt\n",
    "import pandas as pd\n",
    "import numpy as np\n",
    "import requests\n",
    "import time\n",
    "import json\n",
    "import scipy.stats as st\n",
    "from scipy.stats import linregress\n",
    "\n",
    "# Import API key\n",
    "from api_keys import weather_api_key\n",
    "\n",
    "# Incorporated citipy to determine city based on latitude and longitude\n",
    "from citipy import citipy\n",
    "\n",
    "# Output File (CSV)\n",
    "output_data_file = \"output_data/cities.csv\"\n",
    "\n",
    "# Range of latitudes and longitudes\n",
    "lat_range = (-90, 90)\n",
    "lng_range = (-180, 180)\n"
   ]
  },
  {
   "cell_type": "markdown",
   "metadata": {},
   "source": [
    "## Generate Cities List"
   ]
  },
  {
   "cell_type": "code",
   "execution_count": 3,
   "metadata": {},
   "outputs": [
    {
     "name": "stdout",
     "output_type": "stream",
     "text": [
      "608\n",
      "608\n"
     ]
    }
   ],
   "source": [
    "# List for holding lat_lngs and cities\n",
    "lat_lngs = []\n",
    "cities = []\n",
    "countries = []\n",
    "\n",
    "# Create a set of random lat and lng combinations\n",
    "lats = np.random.uniform(low=-90.000, high=90.000, size=1500)\n",
    "lngs = np.random.uniform(low=-180.000, high=180.000, size=1500)\n",
    "lat_lngs = zip(lats, lngs)\n",
    "\n",
    "# Identify nearest city for each lat, lng combination\n",
    "for lat_lng in lat_lngs:\n",
    "    city = citipy.nearest_city(lat_lng[0], lat_lng[1]).city_name\n",
    "    country = citipy.nearest_city(lat_lng[0], lat_lng[1]).country_code\n",
    "    # If the city is unique, then add it to a our cities list\n",
    "    if city not in cities:\n",
    "        cities.append(city)\n",
    "        countries.append(country.upper())\n",
    "\n",
    "# Print the city count to confirm sufficient count\n",
    "print(len(cities))\n",
    "\n",
    "#Print the country count to confirm it matches city count\n",
    "print(len(countries))"
   ]
  },
  {
   "cell_type": "code",
   "execution_count": 4,
   "metadata": {
    "scrolled": true
   },
   "outputs": [
    {
     "data": {
      "text/html": [
       "<div>\n",
       "<style scoped>\n",
       "    .dataframe tbody tr th:only-of-type {\n",
       "        vertical-align: middle;\n",
       "    }\n",
       "\n",
       "    .dataframe tbody tr th {\n",
       "        vertical-align: top;\n",
       "    }\n",
       "\n",
       "    .dataframe thead th {\n",
       "        text-align: right;\n",
       "    }\n",
       "</style>\n",
       "<table border=\"1\" class=\"dataframe\">\n",
       "  <thead>\n",
       "    <tr style=\"text-align: right;\">\n",
       "      <th></th>\n",
       "      <th>City</th>\n",
       "      <th>Country</th>\n",
       "      <th>Cloudiness</th>\n",
       "      <th>Date</th>\n",
       "      <th>Humidity</th>\n",
       "      <th>Lat</th>\n",
       "      <th>Lng</th>\n",
       "      <th>Max Temp</th>\n",
       "      <th>Windspeed</th>\n",
       "    </tr>\n",
       "  </thead>\n",
       "  <tbody>\n",
       "    <tr>\n",
       "      <th>0</th>\n",
       "      <td>kumo</td>\n",
       "      <td>NG</td>\n",
       "      <td></td>\n",
       "      <td></td>\n",
       "      <td></td>\n",
       "      <td></td>\n",
       "      <td></td>\n",
       "      <td></td>\n",
       "      <td></td>\n",
       "    </tr>\n",
       "    <tr>\n",
       "      <th>1</th>\n",
       "      <td>hobart</td>\n",
       "      <td>AU</td>\n",
       "      <td></td>\n",
       "      <td></td>\n",
       "      <td></td>\n",
       "      <td></td>\n",
       "      <td></td>\n",
       "      <td></td>\n",
       "      <td></td>\n",
       "    </tr>\n",
       "    <tr>\n",
       "      <th>2</th>\n",
       "      <td>cherskiy</td>\n",
       "      <td>RU</td>\n",
       "      <td></td>\n",
       "      <td></td>\n",
       "      <td></td>\n",
       "      <td></td>\n",
       "      <td></td>\n",
       "      <td></td>\n",
       "      <td></td>\n",
       "    </tr>\n",
       "    <tr>\n",
       "      <th>3</th>\n",
       "      <td>mirnyy</td>\n",
       "      <td>RU</td>\n",
       "      <td></td>\n",
       "      <td></td>\n",
       "      <td></td>\n",
       "      <td></td>\n",
       "      <td></td>\n",
       "      <td></td>\n",
       "      <td></td>\n",
       "    </tr>\n",
       "    <tr>\n",
       "      <th>4</th>\n",
       "      <td>la ronge</td>\n",
       "      <td>CA</td>\n",
       "      <td></td>\n",
       "      <td></td>\n",
       "      <td></td>\n",
       "      <td></td>\n",
       "      <td></td>\n",
       "      <td></td>\n",
       "      <td></td>\n",
       "    </tr>\n",
       "  </tbody>\n",
       "</table>\n",
       "</div>"
      ],
      "text/plain": [
       "       City Country Cloudiness Date Humidity Lat Lng Max Temp Windspeed\n",
       "0      kumo      NG                                                    \n",
       "1    hobart      AU                                                    \n",
       "2  cherskiy      RU                                                    \n",
       "3    mirnyy      RU                                                    \n",
       "4  la ronge      CA                                                    "
      ]
     },
     "execution_count": 4,
     "metadata": {},
     "output_type": "execute_result"
    }
   ],
   "source": [
    "# Create dataframe to store data\n",
    "city_weather = pd.DataFrame({'City': cities, 'Country': countries,'Cloudiness': \"\", 'Date': \"\", 'Humidity': \"\",\n",
    "                             'Lat': \"\", 'Lng': \"\", 'Max Temp': \"\", 'Windspeed': \"\"})\n",
    "\n",
    "#Preview the dataframe\n",
    "city_weather.head()"
   ]
  },
  {
   "cell_type": "markdown",
   "metadata": {},
   "source": [
    "### Perform API Calls\n",
    "* Perform a weather check on each city using a series of successive API calls.\n",
    "* Include a print log of each city as it'sbeing processed (with the city number and city name).\n"
   ]
  },
  {
   "cell_type": "code",
   "execution_count": 6,
   "metadata": {
    "scrolled": false
   },
   "outputs": [
    {
     "name": "stdout",
     "output_type": "stream",
     "text": [
      "\n",
      "-----------------------------\n",
      "Beginning Data Retrieval\n",
      "-----------------------------\n",
      "Processing Weather Data for Record 1 of Set 1 | Kumo\n",
      "Processing Weather Data for Record 2 of Set 1 | Hobart\n",
      "Processing Weather Data for Record 3 of Set 1 | Cherskiy\n",
      "Processing Weather Data for Record 4 of Set 1 | Mirny\n",
      "Processing Weather Data for Record 5 of Set 1 | La Ronge\n",
      "Processing Weather Data for Record 6 of Set 1 | Tiksi\n",
      "Processing Weather Data for Record 7 of Set 1 | Kapaa\n",
      "Processing Weather Data for Record 8 of Set 1 | Muborak\n",
      "Processing Weather Data for Record 9 of Set 1 | Chokurdakh\n",
      "Processing Weather Data for Record 10 of Set 1 | Albany\n",
      "Processing Weather Data for Record 11 of Set 1 | Olinda\n",
      "Processing Weather Data for Record 12 of Set 1 | Saint-Philippe\n",
      "Processing Weather Data for Record 13 of Set 1 | Rikitea\n",
      "Processing Weather Data for Record 14 of Set 1 | Hasaki\n",
      "Processing Weather Data for Record 15 of Set 1 | Kudahuvadhoo\n",
      "Processing Weather Data for Record 16 of Set 1 | High Level\n",
      "Processing Weather Data for Record 17 of Set 1 | Hermanus\n",
      "Processing Weather Data for Record 18 of Set 1 | Punta Arenas\n",
      "Processing Weather Data for Record 19 of Set 1 | Tarija\n",
      "Processing Weather Data for Record 20 of Set 1 | Tasiilaq\n",
      "Processing Weather Data for Record 21 of Set 1 | Carnarvon\n",
      "Processing Weather Data for Record 22 of Set 1 | Ayorou\n",
      "Processing Weather Data for Record 23 of Set 1 | Kantang\n",
      "Processing Weather Data for Record 24 of Set 1 | Tazovsky\n",
      "City not found....Skipping............\n",
      "Processing Weather Data for Record 25 of Set 1 | Half Moon Bay\n",
      "Processing Weather Data for Record 26 of Set 1 | Vaini\n",
      "Processing Weather Data for Record 27 of Set 1 | Atuona\n",
      "Processing Weather Data for Record 28 of Set 1 | Namatanai\n",
      "Processing Weather Data for Record 29 of Set 1 | Butaritari\n",
      "Processing Weather Data for Record 30 of Set 1 | San Patricio\n",
      "City not found....Skipping............\n",
      "Processing Weather Data for Record 31 of Set 1 | Bambous Virieux\n",
      "Processing Weather Data for Record 32 of Set 1 | Upernavik\n",
      "Processing Weather Data for Record 33 of Set 1 | Jiquinlaca\n",
      "Processing Weather Data for Record 34 of Set 1 | Busselton\n",
      "Processing Weather Data for Record 35 of Set 1 | Severo-Kuril'sk\n",
      "Processing Weather Data for Record 36 of Set 1 | Alofi\n",
      "Processing Weather Data for Record 37 of Set 1 | Novyy Urgal\n",
      "Processing Weather Data for Record 38 of Set 1 | Mucurapo\n",
      "Processing Weather Data for Record 39 of Set 1 | Naze\n",
      "Processing Weather Data for Record 40 of Set 1 | Makkah al Mukarramah\n",
      "Processing Weather Data for Record 41 of Set 1 | Cabo San Lucas\n",
      "Processing Weather Data for Record 42 of Set 1 | Ārvi\n",
      "Processing Weather Data for Record 43 of Set 1 | Qaanaaq\n",
      "Processing Weather Data for Record 44 of Set 1 | Esperance\n",
      "Processing Weather Data for Record 45 of Set 1 | Chapais\n",
      "Processing Weather Data for Record 46 of Set 1 | Yara\n",
      "Processing Weather Data for Record 47 of Set 1 | Bowen\n",
      "Processing Weather Data for Record 48 of Set 1 | Yellowknife\n",
      "Processing Weather Data for Record 49 of Set 1 | Port Elizabeth\n",
      "Processing Weather Data for Record 50 of Set 1 | Tahara\n",
      "Processing Weather Data for Record 1 of Set 2 | Ushuaia\n",
      "Processing Weather Data for Record 2 of Set 2 | Ocampo\n",
      "Processing Weather Data for Record 3 of Set 2 | Abhā\n",
      "Processing Weather Data for Record 4 of Set 2 | Isaka\n",
      "Processing Weather Data for Record 5 of Set 2 | Beringovskiy\n",
      "City not found....Skipping............\n",
      "Processing Weather Data for Record 6 of Set 2 | Talnakh\n",
      "Processing Weather Data for Record 7 of Set 2 | Pedro II\n",
      "Processing Weather Data for Record 8 of Set 2 | Gombong\n",
      "Processing Weather Data for Record 9 of Set 2 | Dikson\n",
      "Processing Weather Data for Record 10 of Set 2 | Isangel\n",
      "Processing Weather Data for Record 11 of Set 2 | Kaitangata\n",
      "Processing Weather Data for Record 12 of Set 2 | Tateyama\n",
      "Processing Weather Data for Record 13 of Set 2 | el Prat de Llobregat\n",
      "Processing Weather Data for Record 14 of Set 2 | Henties Bay\n",
      "Processing Weather Data for Record 15 of Set 2 | Waipawa\n",
      "Processing Weather Data for Record 16 of Set 2 | Aklavik\n",
      "Processing Weather Data for Record 17 of Set 2 | Russell\n",
      "Processing Weather Data for Record 18 of Set 2 | Port Alfred\n",
      "Processing Weather Data for Record 19 of Set 2 | Japura\n",
      "Processing Weather Data for Record 20 of Set 2 | Mar del Plata\n",
      "Processing Weather Data for Record 21 of Set 2 | Hithadhoo\n",
      "Processing Weather Data for Record 22 of Set 2 | Almeirim\n",
      "Processing Weather Data for Record 23 of Set 2 | Airai\n",
      "Processing Weather Data for Record 24 of Set 2 | Evensk\n",
      "Processing Weather Data for Record 25 of Set 2 | Adrar\n",
      "Processing Weather Data for Record 26 of Set 2 | Arraial do Cabo\n",
      "City not found....Skipping............\n",
      "Processing Weather Data for Record 27 of Set 2 | Mehamn\n",
      "Processing Weather Data for Record 28 of Set 2 | Hilo\n",
      "Processing Weather Data for Record 29 of Set 2 | East London\n",
      "Processing Weather Data for Record 30 of Set 2 | Srednekolymsk\n",
      "Processing Weather Data for Record 31 of Set 2 | Saint Anthony\n",
      "Processing Weather Data for Record 32 of Set 2 | Havøysund\n",
      "Processing Weather Data for Record 33 of Set 2 | Zyryanka\n",
      "Processing Weather Data for Record 34 of Set 2 | Jamestown\n",
      "Processing Weather Data for Record 35 of Set 2 | Mahébourg\n",
      "Processing Weather Data for Record 36 of Set 2 | Khatanga\n",
      "Processing Weather Data for Record 37 of Set 2 | Nome\n",
      "Processing Weather Data for Record 38 of Set 2 | Hereford\n",
      "Processing Weather Data for Record 39 of Set 2 | Sitka\n",
      "Processing Weather Data for Record 40 of Set 2 | Okhotsk\n",
      "Processing Weather Data for Record 41 of Set 2 | Elliot\n",
      "Processing Weather Data for Record 42 of Set 2 | Mataura\n",
      "Processing Weather Data for Record 43 of Set 2 | Katsuura\n",
      "Processing Weather Data for Record 44 of Set 2 | Priargunsk\n",
      "Processing Weather Data for Record 45 of Set 2 | Broome\n",
      "Processing Weather Data for Record 46 of Set 2 | Ziro\n",
      "Processing Weather Data for Record 47 of Set 2 | Lüderitz\n",
      "Processing Weather Data for Record 48 of Set 2 | Syców\n",
      "Processing Weather Data for Record 49 of Set 2 | Kumul\n",
      "Processing Weather Data for Record 50 of Set 2 | Puerto Ayora\n",
      "Processing Weather Data for Record 1 of Set 3 | Marsá Maţrūḩ\n",
      "Processing Weather Data for Record 2 of Set 3 | Solnechnyy\n",
      "Processing Weather Data for Record 3 of Set 3 | Waingapu\n",
      "Processing Weather Data for Record 4 of Set 3 | São João da Barra\n",
      "Processing Weather Data for Record 5 of Set 3 | Tobermory\n",
      "Processing Weather Data for Record 6 of Set 3 | Oranjestad\n",
      "Processing Weather Data for Record 7 of Set 3 | Tianpeng\n",
      "Processing Weather Data for Record 8 of Set 3 | Nabire\n",
      "Processing Weather Data for Record 9 of Set 3 | Artvin Province\n",
      "Processing Weather Data for Record 10 of Set 3 | Kharan\n",
      "Processing Weather Data for Record 11 of Set 3 | Dombarovskiy\n",
      "Processing Weather Data for Record 12 of Set 3 | Westport\n",
      "Processing Weather Data for Record 13 of Set 3 | Mount Isa\n",
      "Processing Weather Data for Record 14 of Set 3 | Cape Town\n",
      "Processing Weather Data for Record 15 of Set 3 | Avarua\n",
      "Processing Weather Data for Record 16 of Set 3 | Lagoa\n",
      "Processing Weather Data for Record 17 of Set 3 | Saldanha\n",
      "Processing Weather Data for Record 18 of Set 3 | Miyako\n",
      "Processing Weather Data for Record 19 of Set 3 | Lorengau\n",
      "City not found....Skipping............\n",
      "Processing Weather Data for Record 20 of Set 3 | Hvolsvollur\n",
      "City not found....Skipping............\n",
      "Processing Weather Data for Record 21 of Set 3 | Barrow\n",
      "Processing Weather Data for Record 22 of Set 3 | Bilma\n",
      "Processing Weather Data for Record 23 of Set 3 | Kirakira\n",
      "Processing Weather Data for Record 24 of Set 3 | Merauke\n",
      "Processing Weather Data for Record 25 of Set 3 | Irauçuba\n",
      "Processing Weather Data for Record 26 of Set 3 | Spas-Demensk\n",
      "Processing Weather Data for Record 27 of Set 3 | Akdepe\n",
      "Processing Weather Data for Record 28 of Set 3 | Bluff\n",
      "Processing Weather Data for Record 29 of Set 3 | Ponta do Sol\n",
      "Processing Weather Data for Record 30 of Set 3 | Leningradskiy\n",
      "City not found....Skipping............\n",
      "Processing Weather Data for Record 31 of Set 3 | Chernyshevskiy\n",
      "Processing Weather Data for Record 32 of Set 3 | Springfield\n",
      "Processing Weather Data for Record 33 of Set 3 | Narsaq\n",
      "Processing Weather Data for Record 34 of Set 3 | Murray Bridge\n",
      "Processing Weather Data for Record 35 of Set 3 | New Norfolk\n"
     ]
    },
    {
     "name": "stdout",
     "output_type": "stream",
     "text": [
      "Processing Weather Data for Record 36 of Set 3 | Galesong\n",
      "Processing Weather Data for Record 37 of Set 3 | Bodden Town\n",
      "Processing Weather Data for Record 38 of Set 3 | Nanortalik\n",
      "Processing Weather Data for Record 39 of Set 3 | Santa Fe\n",
      "Processing Weather Data for Record 40 of Set 3 | Franklin\n",
      "Processing Weather Data for Record 41 of Set 3 | Alugan\n",
      "Processing Weather Data for Record 42 of Set 3 | Verāval\n",
      "Processing Weather Data for Record 43 of Set 3 | Vardø\n",
      "Processing Weather Data for Record 44 of Set 3 | Mountain Home\n",
      "Processing Weather Data for Record 45 of Set 3 | Tibati\n",
      "Processing Weather Data for Record 46 of Set 3 | Vidim\n",
      "Processing Weather Data for Record 47 of Set 3 | Poronaysk\n",
      "Processing Weather Data for Record 48 of Set 3 | Sinnamary\n",
      "Processing Weather Data for Record 49 of Set 3 | Cidreira\n",
      "Processing Weather Data for Record 50 of Set 3 | Los Llanos de Aridane\n",
      "City not found....Skipping............\n",
      "Processing Weather Data for Record 1 of Set 4 | Souillac\n",
      "Processing Weather Data for Record 2 of Set 4 | Saint Paul Harbor\n",
      "Processing Weather Data for Record 3 of Set 4 | Batagay-Alyta\n",
      "Processing Weather Data for Record 4 of Set 4 | Berlevåg\n",
      "Processing Weather Data for Record 5 of Set 4 | Río Tercero\n",
      "Processing Weather Data for Record 6 of Set 4 | Saskylakh\n",
      "Processing Weather Data for Record 7 of Set 4 | George Town\n",
      "Processing Weather Data for Record 8 of Set 4 | Alice Springs\n",
      "Processing Weather Data for Record 9 of Set 4 | Balikpapan\n",
      "Processing Weather Data for Record 10 of Set 4 | Mount Gambier\n",
      "Processing Weather Data for Record 11 of Set 4 | Guerrero Negro\n",
      "Processing Weather Data for Record 12 of Set 4 | Yar-Sale\n",
      "Processing Weather Data for Record 13 of Set 4 | Arman'\n",
      "Processing Weather Data for Record 14 of Set 4 | Ixtapa\n",
      "Processing Weather Data for Record 15 of Set 4 | Chui\n",
      "Processing Weather Data for Record 16 of Set 4 | Mandlā\n",
      "City not found....Skipping............\n",
      "Processing Weather Data for Record 17 of Set 4 | Stolin\n",
      "Processing Weather Data for Record 18 of Set 4 | Pombia\n",
      "Processing Weather Data for Record 19 of Set 4 | Severodvinsk\n",
      "City not found....Skipping............\n",
      "Processing Weather Data for Record 20 of Set 4 | Davila\n",
      "Processing Weather Data for Record 21 of Set 4 | Road Town\n",
      "Processing Weather Data for Record 22 of Set 4 | Mogadishu\n",
      "Processing Weather Data for Record 23 of Set 4 | Homer\n",
      "Processing Weather Data for Record 24 of Set 4 | Jiancheng\n",
      "City not found....Skipping............\n",
      "Processing Weather Data for Record 25 of Set 4 | Tuktoyaktuk\n",
      "Processing Weather Data for Record 26 of Set 4 | Eydhafushi\n",
      "Processing Weather Data for Record 27 of Set 4 | Hobyo\n",
      "Processing Weather Data for Record 28 of Set 4 | Mayo\n",
      "Processing Weather Data for Record 29 of Set 4 | Faanui\n",
      "Processing Weather Data for Record 30 of Set 4 | Saint-François\n",
      "Processing Weather Data for Record 31 of Set 4 | Steinbach am Taunus\n",
      "Processing Weather Data for Record 32 of Set 4 | Asău\n",
      "Processing Weather Data for Record 33 of Set 4 | Honningsvåg\n",
      "Processing Weather Data for Record 34 of Set 4 | Norman Wells\n",
      "Processing Weather Data for Record 35 of Set 4 | Imbituba\n",
      "Processing Weather Data for Record 36 of Set 4 | Bathsheba\n",
      "Processing Weather Data for Record 37 of Set 4 | Yanaul\n",
      "Processing Weather Data for Record 38 of Set 4 | Orán\n",
      "Processing Weather Data for Record 39 of Set 4 | Anuradhapura\n",
      "Processing Weather Data for Record 40 of Set 4 | Pacific Grove\n",
      "Processing Weather Data for Record 41 of Set 4 | Thompson\n",
      "Processing Weather Data for Record 42 of Set 4 | Bethel\n",
      "Processing Weather Data for Record 43 of Set 4 | Casablanca\n",
      "Processing Weather Data for Record 44 of Set 4 | Bredasdorp\n",
      "City not found....Skipping............\n",
      "Processing Weather Data for Record 45 of Set 4 | Ahipara\n",
      "Processing Weather Data for Record 46 of Set 4 | Arbagar\n",
      "Processing Weather Data for Record 47 of Set 4 | Buala\n",
      "Processing Weather Data for Record 48 of Set 4 | Lebu\n",
      "City not found....Skipping............\n",
      "Processing Weather Data for Record 49 of Set 4 | Deniliquin\n",
      "Processing Weather Data for Record 50 of Set 4 | Pangody\n",
      "Processing Weather Data for Record 1 of Set 5 | Castro\n",
      "Processing Weather Data for Record 2 of Set 5 | Springdale\n",
      "Processing Weather Data for Record 3 of Set 5 | Namie\n",
      "Processing Weather Data for Record 4 of Set 5 | Lompoc\n",
      "Processing Weather Data for Record 5 of Set 5 | Fukuechō\n",
      "Processing Weather Data for Record 6 of Set 5 | Iqaluit\n",
      "Processing Weather Data for Record 7 of Set 5 | Elesbão Veloso\n",
      "Processing Weather Data for Record 8 of Set 5 | Zhangye\n",
      "Processing Weather Data for Record 9 of Set 5 | Örnsköldsvik\n",
      "City not found....Skipping............\n",
      "Processing Weather Data for Record 10 of Set 5 | Saint George\n",
      "Processing Weather Data for Record 11 of Set 5 | Nikolskoye\n",
      "Processing Weather Data for Record 12 of Set 5 | Riyadh\n",
      "Processing Weather Data for Record 13 of Set 5 | Biu\n",
      "Processing Weather Data for Record 14 of Set 5 | Goderich\n",
      "Processing Weather Data for Record 15 of Set 5 | Liwale\n",
      "City not found....Skipping............\n",
      "Processing Weather Data for Record 16 of Set 5 | Ifanadiana\n",
      "Processing Weather Data for Record 17 of Set 5 | Torbay\n",
      "Processing Weather Data for Record 18 of Set 5 | Mastic Beach\n",
      "Processing Weather Data for Record 19 of Set 5 | Longyearbyen\n",
      "Processing Weather Data for Record 20 of Set 5 | Sakaiminato\n",
      "Processing Weather Data for Record 21 of Set 5 | Guiratinga\n",
      "Processing Weather Data for Record 22 of Set 5 | Vao\n",
      "Processing Weather Data for Record 23 of Set 5 | Vikulovo\n",
      "Processing Weather Data for Record 24 of Set 5 | Wa\n",
      "Processing Weather Data for Record 25 of Set 5 | Yichang\n",
      "Processing Weather Data for Record 26 of Set 5 | Paamiut\n",
      "Processing Weather Data for Record 27 of Set 5 | Noumea\n",
      "Processing Weather Data for Record 28 of Set 5 | Inhambane\n",
      "Processing Weather Data for Record 29 of Set 5 | Pavlovka\n",
      "Processing Weather Data for Record 30 of Set 5 | Ürümqi\n",
      "Processing Weather Data for Record 31 of Set 5 | Vila Velha\n",
      "City not found....Skipping............\n",
      "Processing Weather Data for Record 32 of Set 5 | Port Shepstone\n",
      "Processing Weather Data for Record 33 of Set 5 | Ryōtsu-minato\n",
      "Processing Weather Data for Record 34 of Set 5 | Maniwaki\n",
      "City not found....Skipping............\n",
      "Processing Weather Data for Record 35 of Set 5 | Emba\n",
      "Processing Weather Data for Record 36 of Set 5 | Zhaotong\n",
      "Processing Weather Data for Record 37 of Set 5 | Virginia Beach\n",
      "Processing Weather Data for Record 38 of Set 5 | Kibre Mengist\n",
      "Processing Weather Data for Record 39 of Set 5 | Kropotkin\n",
      "Processing Weather Data for Record 40 of Set 5 | Bang Yai\n",
      "Processing Weather Data for Record 41 of Set 5 | Ribeira Grande\n",
      "Processing Weather Data for Record 42 of Set 5 | Grand Gaube\n",
      "Processing Weather Data for Record 43 of Set 5 | Mitsamiouli\n",
      "Processing Weather Data for Record 44 of Set 5 | São João\n",
      "City not found....Skipping............\n",
      "Processing Weather Data for Record 45 of Set 5 | Klaksvík\n",
      "Processing Weather Data for Record 46 of Set 5 | Ola\n",
      "Processing Weather Data for Record 47 of Set 5 | Parakou\n",
      "Processing Weather Data for Record 48 of Set 5 | Warwick\n",
      "Processing Weather Data for Record 49 of Set 5 | Jinxiang\n",
      "Processing Weather Data for Record 50 of Set 5 | Olafsvik\n",
      "Processing Weather Data for Record 1 of Set 6 | Amapá\n",
      "Processing Weather Data for Record 2 of Set 6 | Labuhan\n",
      "Processing Weather Data for Record 3 of Set 6 | Port Hedland\n",
      "Processing Weather Data for Record 4 of Set 6 | Praia\n",
      "Processing Weather Data for Record 5 of Set 6 | Qaqortoq\n",
      "Processing Weather Data for Record 6 of Set 6 | Sindou\n",
      "Processing Weather Data for Record 7 of Set 6 | Provideniya\n",
      "Processing Weather Data for Record 8 of Set 6 | Jiaocheng\n",
      "Processing Weather Data for Record 9 of Set 6 | Singaparna\n",
      "Processing Weather Data for Record 10 of Set 6 | Kupang\n",
      "Processing Weather Data for Record 11 of Set 6 | Xichang\n",
      "Processing Weather Data for Record 12 of Set 6 | Torquay\n",
      "Processing Weather Data for Record 13 of Set 6 | San Jerónimo\n",
      "Processing Weather Data for Record 14 of Set 6 | Clyde River\n",
      "Processing Weather Data for Record 15 of Set 6 | Camacha\n",
      "Processing Weather Data for Record 16 of Set 6 | Volot\n",
      "Processing Weather Data for Record 17 of Set 6 | Lakhīmpur\n",
      "Processing Weather Data for Record 18 of Set 6 | Yarmouth\n",
      "Processing Weather Data for Record 19 of Set 6 | Caçapava do Sul\n"
     ]
    },
    {
     "name": "stdout",
     "output_type": "stream",
     "text": [
      "Processing Weather Data for Record 20 of Set 6 | Ambon City\n",
      "Processing Weather Data for Record 21 of Set 6 | Port Hardy\n",
      "Processing Weather Data for Record 22 of Set 6 | Luocheng\n",
      "Processing Weather Data for Record 23 of Set 6 | Olutanga\n",
      "Processing Weather Data for Record 24 of Set 6 | Ambatofinandrahana\n",
      "Processing Weather Data for Record 25 of Set 6 | Zhicheng\n",
      "Processing Weather Data for Record 26 of Set 6 | Conde\n",
      "Processing Weather Data for Record 27 of Set 6 | Geraldton\n",
      "Processing Weather Data for Record 28 of Set 6 | Ilulissat\n",
      "Processing Weather Data for Record 29 of Set 6 | Praia\n",
      "Processing Weather Data for Record 30 of Set 6 | Souris\n",
      "Processing Weather Data for Record 31 of Set 6 | Fortuna\n",
      "Processing Weather Data for Record 32 of Set 6 | Kavaratti\n",
      "Processing Weather Data for Record 33 of Set 6 | Picuí\n",
      "Processing Weather Data for Record 34 of Set 6 | Khandyga\n",
      "Processing Weather Data for Record 35 of Set 6 | Nouadhibou\n",
      "Processing Weather Data for Record 36 of Set 6 | Carndonagh\n",
      "Processing Weather Data for Record 37 of Set 6 | Laguna\n",
      "Processing Weather Data for Record 38 of Set 6 | Goundi\n",
      "Processing Weather Data for Record 39 of Set 6 | Svetlaya\n",
      "Processing Weather Data for Record 40 of Set 6 | Shingū\n",
      "Processing Weather Data for Record 41 of Set 6 | Villaviciosa\n",
      "Processing Weather Data for Record 42 of Set 6 | Edson\n",
      "Processing Weather Data for Record 43 of Set 6 | Innisfail\n",
      "Processing Weather Data for Record 44 of Set 6 | Galeana\n",
      "Processing Weather Data for Record 45 of Set 6 | Antofagasta\n",
      "Processing Weather Data for Record 46 of Set 6 | Te Anau\n",
      "Processing Weather Data for Record 47 of Set 6 | Tuatapere\n",
      "Processing Weather Data for Record 48 of Set 6 | Peddāpuram\n",
      "Processing Weather Data for Record 49 of Set 6 | Staryy Nadym\n",
      "Processing Weather Data for Record 50 of Set 6 | Caucayá\n",
      "Processing Weather Data for Record 1 of Set 7 | Vestmannaeyjar\n",
      "Processing Weather Data for Record 2 of Set 7 | Ishigaki\n",
      "Processing Weather Data for Record 3 of Set 7 | Carballo\n",
      "Processing Weather Data for Record 4 of Set 7 | Cortez\n",
      "City not found....Skipping............\n",
      "Processing Weather Data for Record 5 of Set 7 | Montrose\n",
      "City not found....Skipping............\n",
      "Processing Weather Data for Record 6 of Set 7 | Novoye Leushino\n",
      "Processing Weather Data for Record 7 of Set 7 | Constitución\n",
      "Processing Weather Data for Record 8 of Set 7 | Makakilo City\n",
      "Processing Weather Data for Record 9 of Set 7 | Pisco\n",
      "Processing Weather Data for Record 10 of Set 7 | Batemans Bay\n",
      "Processing Weather Data for Record 11 of Set 7 | Dingle\n",
      "Processing Weather Data for Record 12 of Set 7 | Numan\n",
      "Processing Weather Data for Record 13 of Set 7 | Pevek\n",
      "Processing Weather Data for Record 14 of Set 7 | Charters Towers\n",
      "Processing Weather Data for Record 15 of Set 7 | Awjilah\n",
      "Processing Weather Data for Record 16 of Set 7 | Evinayong\n",
      "Processing Weather Data for Record 17 of Set 7 | Kruisfontein\n",
      "Processing Weather Data for Record 18 of Set 7 | Santiago del Estero\n",
      "Processing Weather Data for Record 19 of Set 7 | Kiryat Gat\n",
      "Processing Weather Data for Record 20 of Set 7 | Takoradze\n",
      "Processing Weather Data for Record 21 of Set 7 | Cayenne\n",
      "Processing Weather Data for Record 22 of Set 7 | Sisimiut\n",
      "Processing Weather Data for Record 23 of Set 7 | Liancheng\n",
      "Processing Weather Data for Record 24 of Set 7 | Vallenar\n",
      "Processing Weather Data for Record 25 of Set 7 | Palmer\n",
      "Processing Weather Data for Record 26 of Set 7 | Kalmunai\n",
      "Processing Weather Data for Record 27 of Set 7 | Yantzaza\n",
      "Processing Weather Data for Record 28 of Set 7 | Kieta\n",
      "Processing Weather Data for Record 29 of Set 7 | Leshukonskoye\n",
      "Processing Weather Data for Record 30 of Set 7 | Petropavlovsk-Kamchatskiy\n",
      "Processing Weather Data for Record 31 of Set 7 | Korla\n",
      "Processing Weather Data for Record 32 of Set 7 | Adrasmon\n",
      "Processing Weather Data for Record 33 of Set 7 | Pitimbu\n",
      "City not found....Skipping............\n",
      "Processing Weather Data for Record 34 of Set 7 | Kununurra\n",
      "Processing Weather Data for Record 35 of Set 7 | Beidao\n",
      "Processing Weather Data for Record 36 of Set 7 | Salalah\n",
      "Processing Weather Data for Record 37 of Set 7 | Naryan-Mar\n",
      "Processing Weather Data for Record 38 of Set 7 | Millinocket\n",
      "Processing Weather Data for Record 39 of Set 7 | Pleshanovo\n",
      "Processing Weather Data for Record 40 of Set 7 | Churapcha\n",
      "City not found....Skipping............\n",
      "Processing Weather Data for Record 41 of Set 7 | Touros\n",
      "Processing Weather Data for Record 42 of Set 7 | Rajaori\n",
      "Processing Weather Data for Record 43 of Set 7 | Kijini\n",
      "Processing Weather Data for Record 44 of Set 7 | Wasco\n",
      "Processing Weather Data for Record 45 of Set 7 | Alekseyevka\n",
      "Processing Weather Data for Record 46 of Set 7 | Nuuk\n",
      "City not found....Skipping............\n",
      "Processing Weather Data for Record 47 of Set 7 | Baruun-Urt\n",
      "Processing Weather Data for Record 48 of Set 7 | Ocós\n",
      "Processing Weather Data for Record 49 of Set 7 | Port Blair\n",
      "Processing Weather Data for Record 50 of Set 7 | Tukan\n",
      "Processing Weather Data for Record 1 of Set 8 | Kita\n",
      "City not found....Skipping............\n",
      "Processing Weather Data for Record 2 of Set 8 | Anáhuac\n",
      "Processing Weather Data for Record 3 of Set 8 | Talaya\n",
      "Processing Weather Data for Record 4 of Set 8 | Golden\n",
      "Processing Weather Data for Record 5 of Set 8 | Nioki\n",
      "City not found....Skipping............\n",
      "Processing Weather Data for Record 6 of Set 8 | Strezhevoy\n",
      "Processing Weather Data for Record 7 of Set 8 | Seoul\n",
      "City not found....Skipping............\n",
      "Processing Weather Data for Record 8 of Set 8 | Phibun Mangsahan\n",
      "Processing Weather Data for Record 9 of Set 8 | Wamba\n",
      "Processing Weather Data for Record 10 of Set 8 | Gushikawa\n",
      "Processing Weather Data for Record 11 of Set 8 | Kandrian\n",
      "Processing Weather Data for Record 12 of Set 8 | Port Lincoln\n",
      "Processing Weather Data for Record 13 of Set 8 | Ourém\n",
      "City not found....Skipping............\n",
      "Processing Weather Data for Record 14 of Set 8 | La Tuque\n",
      "Processing Weather Data for Record 15 of Set 8 | Sambava\n",
      "Processing Weather Data for Record 16 of Set 8 | Hofn\n",
      "Processing Weather Data for Record 17 of Set 8 | Bac Lieu\n",
      "Processing Weather Data for Record 18 of Set 8 | Oswego\n",
      "Processing Weather Data for Record 19 of Set 8 | Morehead\n",
      "Processing Weather Data for Record 20 of Set 8 | Pinar del Río\n",
      "Processing Weather Data for Record 21 of Set 8 | Mala\n",
      "Processing Weather Data for Record 22 of Set 8 | Benguela\n",
      "City not found....Skipping............\n",
      "Processing Weather Data for Record 23 of Set 8 | Bandarbeyla\n",
      "Processing Weather Data for Record 24 of Set 8 | Flinders\n",
      "Processing Weather Data for Record 25 of Set 8 | Shepsi\n",
      "Processing Weather Data for Record 26 of Set 8 | Sola\n",
      "Processing Weather Data for Record 27 of Set 8 | Tabou\n",
      "City not found....Skipping............\n",
      "Processing Weather Data for Record 28 of Set 8 | Lavrentiya\n",
      "Processing Weather Data for Record 29 of Set 8 | Jardim\n",
      "Processing Weather Data for Record 30 of Set 8 | Mayumba\n",
      "Processing Weather Data for Record 31 of Set 8 | Polovinnoye\n",
      "Processing Weather Data for Record 32 of Set 8 | Nyurba\n",
      "City not found....Skipping............\n",
      "City not found....Skipping............\n",
      "Processing Weather Data for Record 33 of Set 8 | Narrabri\n",
      "Processing Weather Data for Record 34 of Set 8 | Buta\n",
      "Processing Weather Data for Record 35 of Set 8 | Ancud\n",
      "Processing Weather Data for Record 36 of Set 8 | Gisborne\n",
      "Processing Weather Data for Record 37 of Set 8 | Likasi\n",
      "Processing Weather Data for Record 38 of Set 8 | Pochutla\n",
      "Processing Weather Data for Record 39 of Set 8 | Macao\n",
      "Processing Weather Data for Record 40 of Set 8 | Hay River\n",
      "Processing Weather Data for Record 41 of Set 8 | Atar\n",
      "Processing Weather Data for Record 42 of Set 8 | Fare\n",
      "Processing Weather Data for Record 43 of Set 8 | Ust'-Ilimsk\n",
      "Processing Weather Data for Record 44 of Set 8 | Grindavik\n",
      "Processing Weather Data for Record 45 of Set 8 | Natal\n",
      "Processing Weather Data for Record 46 of Set 8 | Zapolyarnyy\n",
      "Processing Weather Data for Record 47 of Set 8 | Miles City\n",
      "Processing Weather Data for Record 48 of Set 8 | Ionia\n",
      "Processing Weather Data for Record 49 of Set 8 | Victor Harbor\n",
      "Processing Weather Data for Record 50 of Set 8 | Richards Bay\n",
      "Processing Weather Data for Record 1 of Set 9 | Anadyr\n",
      "Processing Weather Data for Record 2 of Set 9 | Ţahţā\n",
      "City not found....Skipping............\n",
      "Processing Weather Data for Record 3 of Set 9 | Port Augusta\n"
     ]
    },
    {
     "name": "stdout",
     "output_type": "stream",
     "text": [
      "Processing Weather Data for Record 4 of Set 9 | Prince Rupert\n",
      "City not found....Skipping............\n",
      "Processing Weather Data for Record 5 of Set 9 | Mnogovershinnyy\n",
      "Processing Weather Data for Record 6 of Set 9 | Sālūmbar\n",
      "Processing Weather Data for Record 7 of Set 9 | Kalmar\n",
      "Processing Weather Data for Record 8 of Set 9 | Port-Gentil\n",
      "Processing Weather Data for Record 9 of Set 9 | Maragogi\n",
      "Processing Weather Data for Record 10 of Set 9 | Agoura Hills\n",
      "Processing Weather Data for Record 11 of Set 9 | Kilinochchi\n",
      "Processing Weather Data for Record 12 of Set 9 | Assiniboia\n",
      "Processing Weather Data for Record 13 of Set 9 | Shaowu\n",
      "Processing Weather Data for Record 14 of Set 9 | Moose Factory\n",
      "Processing Weather Data for Record 15 of Set 9 | Inuvik\n",
      "Processing Weather Data for Record 16 of Set 9 | Edd\n",
      "Processing Weather Data for Record 17 of Set 9 | Honiara\n",
      "Processing Weather Data for Record 18 of Set 9 | Kokopo\n",
      "Processing Weather Data for Record 19 of Set 9 | Jalu\n",
      "Processing Weather Data for Record 20 of Set 9 | Pohrebyshche\n",
      "Processing Weather Data for Record 21 of Set 9 | Kjøllefjord\n",
      "Processing Weather Data for Record 22 of Set 9 | Caceres\n",
      "Processing Weather Data for Record 23 of Set 9 | Campina Verde\n",
      "City not found....Skipping............\n",
      "Processing Weather Data for Record 24 of Set 9 | Soe\n",
      "Processing Weather Data for Record 25 of Set 9 | Livingston\n",
      "Processing Weather Data for Record 26 of Set 9 | Yangi Marg`ilon\n",
      "Processing Weather Data for Record 27 of Set 9 | Tual\n",
      "Processing Weather Data for Record 28 of Set 9 | Lodja\n",
      "Processing Weather Data for Record 29 of Set 9 | São Filipe\n",
      "Processing Weather Data for Record 30 of Set 9 | Lamu\n",
      "City not found....Skipping............\n",
      "Processing Weather Data for Record 31 of Set 9 | Sabirabad\n",
      "Processing Weather Data for Record 32 of Set 9 | Kalianget\n",
      "Processing Weather Data for Record 33 of Set 9 | Kluczbork\n",
      "Processing Weather Data for Record 34 of Set 9 | Uruguaiana\n",
      "Processing Weather Data for Record 35 of Set 9 | Carutapera\n",
      "Processing Weather Data for Record 36 of Set 9 | Avera\n",
      "Processing Weather Data for Record 37 of Set 9 | Matagami\n",
      "Processing Weather Data for Record 38 of Set 9 | Jacmel\n",
      "Processing Weather Data for Record 39 of Set 9 | Ludvika\n",
      "Processing Weather Data for Record 40 of Set 9 | Portland\n",
      "City not found....Skipping............\n",
      "Processing Weather Data for Record 41 of Set 9 | Arlit\n",
      "Processing Weather Data for Record 42 of Set 9 | Bay City\n",
      "Processing Weather Data for Record 43 of Set 9 | Muros\n",
      "Processing Weather Data for Record 44 of Set 9 | Pangnirtung\n",
      "Processing Weather Data for Record 45 of Set 9 | Departamento de Maldonado\n",
      "Processing Weather Data for Record 46 of Set 9 | Kautokeino\n",
      "City not found....Skipping............\n",
      "Processing Weather Data for Record 47 of Set 9 | Cehegín\n",
      "Processing Weather Data for Record 48 of Set 9 | Manado\n",
      "Processing Weather Data for Record 49 of Set 9 | Linares\n",
      "Processing Weather Data for Record 50 of Set 9 | Santa Margherita Ligure\n",
      "Processing Weather Data for Record 1 of Set 10 | Plainview\n",
      "Processing Weather Data for Record 2 of Set 10 | Saint-Augustin\n",
      "Processing Weather Data for Record 3 of Set 10 | Laredo\n",
      "Processing Weather Data for Record 4 of Set 10 | Acapulco de Juárez\n",
      "Processing Weather Data for Record 5 of Set 10 | Boca do Acre\n",
      "Processing Weather Data for Record 6 of Set 10 | Bengkulu\n",
      "Processing Weather Data for Record 7 of Set 10 | Kayasula\n",
      "Processing Weather Data for Record 8 of Set 10 | Rosario\n",
      "Processing Weather Data for Record 9 of Set 10 | Matara\n",
      "Processing Weather Data for Record 10 of Set 10 | Calderitas\n",
      "Processing Weather Data for Record 11 of Set 10 | Barpāli\n",
      "Processing Weather Data for Record 12 of Set 10 | Korčula\n",
      "Processing Weather Data for Record 13 of Set 10 | Ugoofaaru\n",
      "Processing Weather Data for Record 14 of Set 10 | Tarbagatay\n",
      "Processing Weather Data for Record 15 of Set 10 | Paranhos\n",
      "Processing Weather Data for Record 16 of Set 10 | Rawson\n",
      "Processing Weather Data for Record 17 of Set 10 | Mangochi\n",
      "Processing Weather Data for Record 18 of Set 10 | Dovers\n",
      "Processing Weather Data for Record 19 of Set 10 | Linjiang\n",
      "Processing Weather Data for Record 20 of Set 10 | Laas\n",
      "City not found....Skipping............\n",
      "Processing Weather Data for Record 21 of Set 10 | Engerwitzdorf\n",
      "Processing Weather Data for Record 22 of Set 10 | Dabat\n",
      "Processing Weather Data for Record 23 of Set 10 | Lander\n",
      "Processing Weather Data for Record 24 of Set 10 | Whakatane\n",
      "Processing Weather Data for Record 25 of Set 10 | Kloulklubed\n",
      "Processing Weather Data for Record 26 of Set 10 | Yaan\n",
      "Processing Weather Data for Record 27 of Set 10 | Bonavista\n",
      "Processing Weather Data for Record 28 of Set 10 | Vila do Maio\n",
      "Processing Weather Data for Record 29 of Set 10 | Poya\n",
      "Processing Weather Data for Record 30 of Set 10 | Luwingu\n",
      "Processing Weather Data for Record 31 of Set 10 | Bolshaya Martynovka\n",
      "Processing Weather Data for Record 32 of Set 10 | Bloemfontein\n",
      "Processing Weather Data for Record 33 of Set 10 | Ponta Delgada\n",
      "Processing Weather Data for Record 34 of Set 10 | Pucallpa\n",
      "Processing Weather Data for Record 35 of Set 10 | Batagay\n",
      "Processing Weather Data for Record 36 of Set 10 | Nara\n",
      "Processing Weather Data for Record 37 of Set 10 | Ust-Maya\n",
      "Processing Weather Data for Record 38 of Set 10 | Aitape\n",
      "Processing Weather Data for Record 39 of Set 10 | Canutama\n",
      "Processing Weather Data for Record 40 of Set 10 | Sassandra\n",
      "City not found....Skipping............\n",
      "Processing Weather Data for Record 41 of Set 10 | Napa\n",
      "Processing Weather Data for Record 42 of Set 10 | Balkhash\n",
      "Processing Weather Data for Record 43 of Set 10 | Ampanihy\n",
      "Processing Weather Data for Record 44 of Set 10 | Vikhorevka\n",
      "Processing Weather Data for Record 45 of Set 10 | Brae\n",
      "Processing Weather Data for Record 46 of Set 10 | Oriximiná\n",
      "Processing Weather Data for Record 47 of Set 10 | Lusambo\n",
      "Processing Weather Data for Record 48 of Set 10 | Norwalk\n",
      "Processing Weather Data for Record 49 of Set 10 | Balingasay\n",
      "Processing Weather Data for Record 50 of Set 10 | Tromsø\n",
      "Processing Weather Data for Record 1 of Set 11 | Tilichiki\n",
      "Processing Weather Data for Record 2 of Set 11 | Kunming\n",
      "Processing Weather Data for Record 3 of Set 11 | Paramonga\n",
      "Processing Weather Data for Record 4 of Set 11 | Umm Kaddadah\n",
      "Processing Weather Data for Record 5 of Set 11 | Vanavara\n",
      "Processing Weather Data for Record 6 of Set 11 | Conceição da Barra\n",
      "Processing Weather Data for Record 7 of Set 11 | Talagang\n",
      "Processing Weather Data for Record 8 of Set 11 | Mayya\n",
      "Processing Weather Data for Record 9 of Set 11 | Malibu\n",
      "Processing Weather Data for Record 10 of Set 11 | Saurimo\n",
      "Processing Weather Data for Record 11 of Set 11 | Ekuvukeni\n",
      "Processing Weather Data for Record 12 of Set 11 | Deep River\n",
      "Processing Weather Data for Record 13 of Set 11 | Ngunguru\n",
      "Processing Weather Data for Record 14 of Set 11 | Keetmanshoop\n",
      "Processing Weather Data for Record 15 of Set 11 | Smidovich\n",
      "Processing Weather Data for Record 16 of Set 11 | Aykhal\n",
      "Processing Weather Data for Record 17 of Set 11 | Fuyang\n",
      "Processing Weather Data for Record 18 of Set 11 | Valparaíso\n",
      "Processing Weather Data for Record 19 of Set 11 | The Valley\n",
      "Processing Weather Data for Record 20 of Set 11 | Khilok\n",
      "Processing Weather Data for Record 21 of Set 11 | Youghal\n",
      "Processing Weather Data for Record 22 of Set 11 | Woodward\n",
      "Processing Weather Data for Record 23 of Set 11 | Itoman\n",
      "Processing Weather Data for Record 24 of Set 11 | Nokaneng\n",
      "City not found....Skipping............\n",
      "Processing Weather Data for Record 25 of Set 11 | Kahului\n",
      "Processing Weather Data for Record 26 of Set 11 | Khovd\n",
      "Processing Weather Data for Record 27 of Set 11 | Impfondo\n",
      "Processing Weather Data for Record 28 of Set 11 | Poyarkovo\n",
      "Processing Weather Data for Record 29 of Set 11 | Pacifica\n",
      "Processing Weather Data for Record 30 of Set 11 | Dourdan\n",
      "City not found....Skipping............\n",
      "Processing Weather Data for Record 31 of Set 11 | Wahiawā\n",
      "Processing Weather Data for Record 32 of Set 11 | San Quintín\n",
      "Processing Weather Data for Record 33 of Set 11 | Predivinsk\n",
      "Processing Weather Data for Record 34 of Set 11 | Conakry\n",
      "Processing Weather Data for Record 35 of Set 11 | Severomuysk\n",
      "Processing Weather Data for Record 36 of Set 11 | Khipro\n",
      "Processing Weather Data for Record 37 of Set 11 | Hambantota\n"
     ]
    },
    {
     "name": "stdout",
     "output_type": "stream",
     "text": [
      "Processing Weather Data for Record 38 of Set 11 | Iisalmi\n",
      "Processing Weather Data for Record 39 of Set 11 | Rio Bananal\n",
      "Processing Weather Data for Record 40 of Set 11 | Yaypan\n",
      "Processing Weather Data for Record 41 of Set 11 | Dabra\n",
      "Processing Weather Data for Record 42 of Set 11 | Khamamatyurt\n",
      "Processing Weather Data for Record 43 of Set 11 | Pangai\n",
      "Processing Weather Data for Record 44 of Set 11 | Dunedin\n",
      "Processing Weather Data for Record 45 of Set 11 | Portage\n",
      "Processing Weather Data for Record 46 of Set 11 | Zlobin\n",
      "Processing Weather Data for Record 47 of Set 11 | Vostok\n",
      "Processing Weather Data for Record 48 of Set 11 | Atlantic City\n",
      "Processing Weather Data for Record 49 of Set 11 | Jumla\n",
      "Processing Weather Data for Record 50 of Set 11 | Ambāgarh Chauki\n",
      "Processing Weather Data for Record 1 of Set 12 | Gambēla\n",
      "Processing Weather Data for Record 2 of Set 12 | Ondarroa\n",
      "Processing Weather Data for Record 3 of Set 12 | Moreira Sales\n",
      "City not found....Skipping............\n",
      "Processing Weather Data for Record 4 of Set 12 | Shimoda\n",
      "Processing Weather Data for Record 5 of Set 12 | Quelimane\n",
      "Processing Weather Data for Record 6 of Set 12 | Huzhou\n",
      "Processing Weather Data for Record 7 of Set 12 | Oloron-Sainte-Marie\n",
      "Processing Weather Data for Record 8 of Set 12 | Nador\n",
      "Processing Weather Data for Record 9 of Set 12 | Ilebo\n",
      "Processing Weather Data for Record 10 of Set 12 | Utiel\n",
      "Processing Weather Data for Record 11 of Set 12 | Sokoto\n",
      "Processing Weather Data for Record 12 of Set 12 | Kamyshla\n",
      "Processing Weather Data for Record 13 of Set 12 | Bone\n",
      "Processing Weather Data for Record 14 of Set 12 | Rietavas\n",
      "Processing Weather Data for Record 15 of Set 12 | Dossor\n",
      "Processing Weather Data for Record 16 of Set 12 | Yulara\n",
      "\n",
      "-----------------------------\n",
      "Data Retrival Complete\n",
      "-----------------------------\n"
     ]
    }
   ],
   "source": [
    "#Variables to keep track of response number\n",
    "#Setting at 1 to use 1-50 rather than 0-49 \n",
    "record_num = 1\n",
    "record_set = 1\n",
    "\n",
    "#Base url to make the api call\n",
    "base_url = 'http://api.openweathermap.org/data/2.5/weather?units=imperial&q='\n",
    "\n",
    "#Run the API call for each city\n",
    "print('''\n",
    "-----------------------------\n",
    "Beginning Data Retrieval\n",
    "-----------------------------''')\n",
    "for index, row in city_weather.iterrows(): \n",
    "    #Create the query url for the API call\n",
    "    query_url = base_url + row['City'] + ',' + row['Country'] + ',' '&APPID=' + weather_api_key\n",
    "    \n",
    "    #API call\n",
    "    response = requests.get(query_url).json()\n",
    "    \n",
    "    #Exception script in case the city is not found by the API call\n",
    "    try: \n",
    "        #Meassage to alert the user that the data is being retrieved\n",
    "        print(f'Processing Weather Data for Record {record_num} of Set {record_set} | {response[\"name\"]}')\n",
    "        \n",
    "        #Input data into the dataframe\n",
    "        city_weather.loc[index, 'Cloudiness'] = response['clouds']['all']\n",
    "        city_weather.loc[index, 'Date'] = response['dt']\n",
    "        city_weather.loc[index, 'Humidity'] = response['main']['humidity']\n",
    "        city_weather.loc[index, 'Lat'] = response['coord']['lat']\n",
    "        city_weather.loc[index, 'Lng'] = response['coord']['lon']\n",
    "        city_weather.loc[index, 'Max Temp'] = response['main']['temp_max']\n",
    "        city_weather.loc[index, 'Windspeed'] = response['wind']['speed']\n",
    "        \n",
    "        #Increase the record count\n",
    "        record_num += 1\n",
    "        \n",
    "    except (KeyError, IndexError):\n",
    "        print(\"City not found....Skipping............\")\n",
    "        \n",
    "    #If statement to handle the API call limits\n",
    "    if record_num == 51:\n",
    "        record_set += 1\n",
    "        record_num = 1\n",
    "        time.sleep(10)\n",
    "        \n",
    "print('''\n",
    "-----------------------------\n",
    "Data Retrival Complete\n",
    "-----------------------------''')"
   ]
  },
  {
   "cell_type": "markdown",
   "metadata": {},
   "source": [
    "### Convert Raw Data to DataFrame\n",
    "* Export the city data into a .csv.\n",
    "* Display the DataFrame"
   ]
  },
  {
   "cell_type": "code",
   "execution_count": 7,
   "metadata": {
    "scrolled": true
   },
   "outputs": [
    {
     "data": {
      "text/html": [
       "<div>\n",
       "<style scoped>\n",
       "    .dataframe tbody tr th:only-of-type {\n",
       "        vertical-align: middle;\n",
       "    }\n",
       "\n",
       "    .dataframe tbody tr th {\n",
       "        vertical-align: top;\n",
       "    }\n",
       "\n",
       "    .dataframe thead th {\n",
       "        text-align: right;\n",
       "    }\n",
       "</style>\n",
       "<table border=\"1\" class=\"dataframe\">\n",
       "  <thead>\n",
       "    <tr style=\"text-align: right;\">\n",
       "      <th></th>\n",
       "      <th>City</th>\n",
       "      <th>Country</th>\n",
       "      <th>Cloudiness</th>\n",
       "      <th>Date</th>\n",
       "      <th>Humidity</th>\n",
       "      <th>Lat</th>\n",
       "      <th>Lng</th>\n",
       "      <th>Max Temp</th>\n",
       "      <th>Windspeed</th>\n",
       "    </tr>\n",
       "  </thead>\n",
       "  <tbody>\n",
       "    <tr>\n",
       "      <th>0</th>\n",
       "      <td>kumo</td>\n",
       "      <td>NG</td>\n",
       "      <td>20</td>\n",
       "      <td>1603213051</td>\n",
       "      <td>28</td>\n",
       "      <td>10.04</td>\n",
       "      <td>11.21</td>\n",
       "      <td>95</td>\n",
       "      <td>4.7</td>\n",
       "    </tr>\n",
       "    <tr>\n",
       "      <th>1</th>\n",
       "      <td>hobart</td>\n",
       "      <td>AU</td>\n",
       "      <td>90</td>\n",
       "      <td>1603213047</td>\n",
       "      <td>81</td>\n",
       "      <td>-42.88</td>\n",
       "      <td>147.33</td>\n",
       "      <td>53.6</td>\n",
       "      <td>5.82</td>\n",
       "    </tr>\n",
       "    <tr>\n",
       "      <th>2</th>\n",
       "      <td>cherskiy</td>\n",
       "      <td>RU</td>\n",
       "      <td>70</td>\n",
       "      <td>1603213052</td>\n",
       "      <td>95</td>\n",
       "      <td>68.75</td>\n",
       "      <td>161.3</td>\n",
       "      <td>18.63</td>\n",
       "      <td>4.52</td>\n",
       "    </tr>\n",
       "    <tr>\n",
       "      <th>3</th>\n",
       "      <td>mirnyy</td>\n",
       "      <td>RU</td>\n",
       "      <td>90</td>\n",
       "      <td>1603213052</td>\n",
       "      <td>92</td>\n",
       "      <td>62.54</td>\n",
       "      <td>113.96</td>\n",
       "      <td>19.4</td>\n",
       "      <td>4.47</td>\n",
       "    </tr>\n",
       "    <tr>\n",
       "      <th>4</th>\n",
       "      <td>la ronge</td>\n",
       "      <td>CA</td>\n",
       "      <td>90</td>\n",
       "      <td>1603213052</td>\n",
       "      <td>68</td>\n",
       "      <td>55.1</td>\n",
       "      <td>-105.28</td>\n",
       "      <td>24.8</td>\n",
       "      <td>3.36</td>\n",
       "    </tr>\n",
       "  </tbody>\n",
       "</table>\n",
       "</div>"
      ],
      "text/plain": [
       "       City Country Cloudiness        Date Humidity    Lat     Lng Max Temp  \\\n",
       "0      kumo      NG         20  1603213051       28  10.04   11.21       95   \n",
       "1    hobart      AU         90  1603213047       81 -42.88  147.33     53.6   \n",
       "2  cherskiy      RU         70  1603213052       95  68.75   161.3    18.63   \n",
       "3    mirnyy      RU         90  1603213052       92  62.54  113.96     19.4   \n",
       "4  la ronge      CA         90  1603213052       68   55.1 -105.28     24.8   \n",
       "\n",
       "  Windspeed  \n",
       "0       4.7  \n",
       "1      5.82  \n",
       "2      4.52  \n",
       "3      4.47  \n",
       "4      3.36  "
      ]
     },
     "execution_count": 7,
     "metadata": {},
     "output_type": "execute_result"
    }
   ],
   "source": [
    "#weather_data = pd.DataFrame(city_weather)\n",
    "city_weather.head()"
   ]
  },
  {
   "cell_type": "code",
   "execution_count": 8,
   "metadata": {},
   "outputs": [],
   "source": [
    "# Export & Save Data Into a .csv.\n",
    "#city_weather.to_csv(\"output_data/cities.csv\")"
   ]
  },
  {
   "cell_type": "code",
   "execution_count": null,
   "metadata": {},
   "outputs": [],
   "source": []
  },
  {
   "cell_type": "markdown",
   "metadata": {},
   "source": [
    "## Inspect the data and remove the cities where the humidity > 100%.\n",
    "----\n",
    "Skip this step if there are no cities that have humidity > 100%. "
   ]
  },
  {
   "cell_type": "code",
   "execution_count": null,
   "metadata": {
    "scrolled": true
   },
   "outputs": [],
   "source": []
  },
  {
   "cell_type": "code",
   "execution_count": 9,
   "metadata": {},
   "outputs": [],
   "source": [
    "#  Get the indices of cities that have humidity over 100%.\n"
   ]
  },
  {
   "cell_type": "code",
   "execution_count": 10,
   "metadata": {},
   "outputs": [
    {
     "data": {
      "text/html": [
       "<div>\n",
       "<style scoped>\n",
       "    .dataframe tbody tr th:only-of-type {\n",
       "        vertical-align: middle;\n",
       "    }\n",
       "\n",
       "    .dataframe tbody tr th {\n",
       "        vertical-align: top;\n",
       "    }\n",
       "\n",
       "    .dataframe thead th {\n",
       "        text-align: right;\n",
       "    }\n",
       "</style>\n",
       "<table border=\"1\" class=\"dataframe\">\n",
       "  <thead>\n",
       "    <tr style=\"text-align: right;\">\n",
       "      <th></th>\n",
       "      <th>City</th>\n",
       "      <th>Country</th>\n",
       "      <th>Cloudiness</th>\n",
       "      <th>Date</th>\n",
       "      <th>Humidity</th>\n",
       "      <th>Lat</th>\n",
       "      <th>Lng</th>\n",
       "      <th>Max Temp</th>\n",
       "      <th>Windspeed</th>\n",
       "    </tr>\n",
       "  </thead>\n",
       "  <tbody>\n",
       "    <tr>\n",
       "      <th>0</th>\n",
       "      <td>kumo</td>\n",
       "      <td>NG</td>\n",
       "      <td>20</td>\n",
       "      <td>1603213051</td>\n",
       "      <td>28</td>\n",
       "      <td>10.04</td>\n",
       "      <td>11.21</td>\n",
       "      <td>95.00</td>\n",
       "      <td>4.7</td>\n",
       "    </tr>\n",
       "    <tr>\n",
       "      <th>1</th>\n",
       "      <td>hobart</td>\n",
       "      <td>AU</td>\n",
       "      <td>90</td>\n",
       "      <td>1603213047</td>\n",
       "      <td>81</td>\n",
       "      <td>-42.88</td>\n",
       "      <td>147.33</td>\n",
       "      <td>53.60</td>\n",
       "      <td>5.82</td>\n",
       "    </tr>\n",
       "    <tr>\n",
       "      <th>2</th>\n",
       "      <td>cherskiy</td>\n",
       "      <td>RU</td>\n",
       "      <td>70</td>\n",
       "      <td>1603213052</td>\n",
       "      <td>95</td>\n",
       "      <td>68.75</td>\n",
       "      <td>161.3</td>\n",
       "      <td>18.63</td>\n",
       "      <td>4.52</td>\n",
       "    </tr>\n",
       "    <tr>\n",
       "      <th>3</th>\n",
       "      <td>mirnyy</td>\n",
       "      <td>RU</td>\n",
       "      <td>90</td>\n",
       "      <td>1603213052</td>\n",
       "      <td>92</td>\n",
       "      <td>62.54</td>\n",
       "      <td>113.96</td>\n",
       "      <td>19.40</td>\n",
       "      <td>4.47</td>\n",
       "    </tr>\n",
       "    <tr>\n",
       "      <th>4</th>\n",
       "      <td>la ronge</td>\n",
       "      <td>CA</td>\n",
       "      <td>90</td>\n",
       "      <td>1603213052</td>\n",
       "      <td>68</td>\n",
       "      <td>55.1</td>\n",
       "      <td>-105.28</td>\n",
       "      <td>24.80</td>\n",
       "      <td>3.36</td>\n",
       "    </tr>\n",
       "  </tbody>\n",
       "</table>\n",
       "</div>"
      ],
      "text/plain": [
       "       City Country Cloudiness        Date Humidity    Lat     Lng  Max Temp  \\\n",
       "0      kumo      NG         20  1603213051       28  10.04   11.21     95.00   \n",
       "1    hobart      AU         90  1603213047       81 -42.88  147.33     53.60   \n",
       "2  cherskiy      RU         70  1603213052       95  68.75   161.3     18.63   \n",
       "3    mirnyy      RU         90  1603213052       92  62.54  113.96     19.40   \n",
       "4  la ronge      CA         90  1603213052       68   55.1 -105.28     24.80   \n",
       "\n",
       "  Windspeed  \n",
       "0       4.7  \n",
       "1      5.82  \n",
       "2      4.52  \n",
       "3      4.47  \n",
       "4      3.36  "
      ]
     },
     "execution_count": 10,
     "metadata": {},
     "output_type": "execute_result"
    }
   ],
   "source": [
    "# Make a new DataFrame equal to the city data to drop all humidity outliers by index.\n",
    "# Passing \"inplace=False\" will make a copy of the city_data DataFrame, which we call \"clean_city_data\".\n",
    "\n",
    "#Clean dataframe to remove cities that were not found\n",
    "city_weather['Max Temp'] = city_weather['Max Temp'].replace('', np.nan)\n",
    "city_weather = city_weather.dropna()\n",
    "\n",
    "#Preview the dataframe\n",
    "city_weather.head()"
   ]
  },
  {
   "cell_type": "code",
   "execution_count": 11,
   "metadata": {},
   "outputs": [],
   "source": [
    "# Export & Save Data Into a .csv.\n",
    "city_weather.to_csv(\"output_data/cities.csv\")\n"
   ]
  },
  {
   "cell_type": "markdown",
   "metadata": {},
   "source": [
    "## Plotting the Data\n",
    "* Use proper labeling of the plots using plot titles (including date of analysis) and axes labels.\n",
    "* Save the plotted figures as .pngs."
   ]
  },
  {
   "cell_type": "markdown",
   "metadata": {},
   "source": [
    "## Latitude vs. Temperature Plot"
   ]
  },
  {
   "cell_type": "code",
   "execution_count": 12,
   "metadata": {
    "scrolled": false
   },
   "outputs": [
    {
     "data": {
      "image/png": "[encoded data removed]",
      "text/plain": [
       "<Figure size 432x288 with 1 Axes>"
      ]
     },
     "metadata": {
      "needs_background": "light"
     },
     "output_type": "display_data"
    }
   ],
   "source": [
    "# Build a scatter plot for each data type\n",
    "plt.scatter(city_weather[\"Lat\"], city_weather[\"Max Temp\"], marker=\"o\")\n",
    "\n",
    "# Incorporate the other graph properties\n",
    "plt.title(f'City Latitude vs. Max Temperature {time.strftime(\"%m/%d/%Y\")}')\n",
    "plt.ylabel(\"Temperature (F)\")\n",
    "plt.xlabel(\"Latitude\")\n",
    "plt.grid(True)\n",
    "\n",
    "# Save the figure\n",
    "plt.savefig(\"output_data/City Latitude vs. Max Temperature.png\")\n",
    "\n",
    "# Show plot\n",
    "plt.show()"
   ]
  },
  {
   "cell_type": "code",
   "execution_count": null,
   "metadata": {},
   "outputs": [],
   "source": [
    "# Latitude vs Temperature plot shows a correlation between the latitude and temperature."
   ]
  },
  {
   "cell_type": "markdown",
   "metadata": {},
   "source": [
    "## Latitude vs. Humidity Plot"
   ]
  },
  {
   "cell_type": "code",
   "execution_count": 13,
   "metadata": {
    "scrolled": true
   },
   "outputs": [
    {
     "data": {
      "image/png": "[encoded data removed]",
      "text/plain": [
       "<Figure size 432x288 with 1 Axes>"
      ]
     },
     "metadata": {
      "needs_background": "light"
     },
     "output_type": "display_data"
    }
   ],
   "source": [
    "# Build a scatter plot for each data type\n",
    "plt.scatter(city_weather[\"Lat\"], city_weather[\"Humidity\"], marker=\"o\")\n",
    "\n",
    "# Incorporate the other graph properties\n",
    "plt.title(f'City Latitude vs. Humidity {time.strftime(\"%m/%d/%Y\")}')\n",
    "plt.ylabel(\"Humidity\")\n",
    "plt.xlabel(\"Latitude\")\n",
    "plt.grid(True)\n",
    "\n",
    "# Save the figure\n",
    "plt.savefig(\"output_data/City Latitude vs. Humidity.png\")\n",
    "\n",
    "# Show plot\n",
    "plt.show()"
   ]
  },
  {
   "cell_type": "code",
   "execution_count": null,
   "metadata": {},
   "outputs": [],
   "source": [
    "#In this Latitude vs Humidity plot we see there is not relation between latitude and humdity."
   ]
  },
  {
   "cell_type": "markdown",
   "metadata": {},
   "source": [
    "## Latitude vs. Cloudiness Plot"
   ]
  },
  {
   "cell_type": "code",
   "execution_count": 14,
   "metadata": {
    "scrolled": true
   },
   "outputs": [
    {
     "data": {
      "image/png": "[encoded data removed]",
      "text/plain": [
       "<Figure size 432x288 with 1 Axes>"
      ]
     },
     "metadata": {
      "needs_background": "light"
     },
     "output_type": "display_data"
    }
   ],
   "source": [
    "# Build a scatter plot for each data type\n",
    "plt.scatter(city_weather[\"Lat\"], city_weather[\"Cloudiness\"], marker=\"o\")\n",
    "\n",
    "# Incorporate the other graph properties\n",
    "plt.title(f'City Latitude vs. Max Cloudiness {time.strftime(\"%m/%d/%Y\")}')\n",
    "plt.ylabel(\"Cloudiness\")\n",
    "plt.xlabel(\"Latitude\")\n",
    "plt.grid(True)\n",
    "\n",
    "# Save the figure\n",
    "plt.savefig(\"output_data/City Latitude vs. Cloudiness.png\")\n",
    "\n",
    "# Show plot\n",
    "plt.show()"
   ]
  },
  {
   "cell_type": "code",
   "execution_count": null,
   "metadata": {},
   "outputs": [],
   "source": [
    "#Latitude vs Cloudiness shows no direct relation between the two factors."
   ]
  },
  {
   "cell_type": "markdown",
   "metadata": {},
   "source": [
    "## Latitude vs. Wind Speed Plot"
   ]
  },
  {
   "cell_type": "code",
   "execution_count": 15,
   "metadata": {
    "scrolled": true
   },
   "outputs": [
    {
     "data": {
      "image/png": "[encoded data removed]",
      "text/plain": [
       "<Figure size 432x288 with 1 Axes>"
      ]
     },
     "metadata": {
      "needs_background": "light"
     },
     "output_type": "display_data"
    }
   ],
   "source": [
    "# Build a scatter plot for each data type\n",
    "plt.scatter(city_weather[\"Lat\"], city_weather[\"Windspeed\"], marker=\"o\")\n",
    "\n",
    "# Incorporate the other graph properties\n",
    "plt.title(f'City Latitude vs. Wind Speed {time.strftime(\"%m/%d/%Y\")}')\n",
    "plt.ylabel(\"Wind Speed\")\n",
    "plt.xlabel(\"Latitude\")\n",
    "plt.grid(True)\n",
    "\n",
    "# Save the figure\n",
    "plt.savefig(\"output_data/City Latitude vs. Wind Speed.png\")\n",
    "\n",
    "# Show plot\n",
    "plt.show()"
   ]
  },
  {
   "cell_type": "code",
   "execution_count": null,
   "metadata": {},
   "outputs": [],
   "source": [
    "#Latitude vs Wind Speed there is a relation between latitude and wind speed but not as strong of a correlation as temperature."
   ]
  },
  {
   "cell_type": "markdown",
   "metadata": {},
   "source": [
    "## Linear Regression"
   ]
  },
  {
   "cell_type": "code",
   "execution_count": 16,
   "metadata": {},
   "outputs": [],
   "source": [
    "# Define northern southern hemisphere\n",
    "northern_hemisphere = city_weather.loc[city_weather[\"Lat\"] >= 0]\n",
    "southern_hemisphere = city_weather.loc[city_weather[\"Lat\"] < 0]"
   ]
  },
  {
   "cell_type": "markdown",
   "metadata": {},
   "source": [
    "####  Northern Hemisphere - Max Temp vs. Latitude Linear Regression"
   ]
  },
  {
   "cell_type": "code",
   "execution_count": 17,
   "metadata": {
    "scrolled": true
   },
   "outputs": [
    {
     "name": "stdout",
     "output_type": "stream",
     "text": [
      "The r-squared is: 0.7789124011098575\n"
     ]
    },
    {
     "data": {
      "image/png": "[encoded data removed]",
      "text/plain": [
       "<Figure size 432x288 with 1 Axes>"
      ]
     },
     "metadata": {
      "needs_background": "light"
     },
     "output_type": "display_data"
    }
   ],
   "source": [
    "# Northern Hemisphere - Max Temp vs. Latitude Linear Regression\n",
    "x_values = northern_hemisphere[\"Lat\"].astype(float)\n",
    "y_values = northern_hemisphere[\"Max Temp\"].astype(float)\n",
    "(slope, intercept, rvalue, pvalue, stderr) = linregress(x_values, y_values)\n",
    "regress_values = x_values * slope + intercept\n",
    "line_eq = \"y = \" + str(round(slope,2)) + \"x + \" + str(round(intercept,2))\n",
    "plt.scatter(x_values,y_values)\n",
    "plt.plot(x_values,regress_values,\"r-\")\n",
    "plt.annotate(line_eq,(6,30),fontsize=15,color=\"red\")\n",
    "plt.xlabel(\"Latitude\")\n",
    "plt.ylabel(\"Max Temp (F)\")\n",
    "plt.title(\"Northern Hemisphere - Max Temp vs. Latitude Linear Regression\")\n",
    "print(f\"The r-squared is: {rvalue**2}\")\n",
    "#plt.show()\n",
    "\n",
    "# Save the figure\n",
    "plt.savefig(\"../Images/Northern Hemisphere - Max Temp vs. Latitude Linear Regression.png\")"
   ]
  },
  {
   "cell_type": "code",
   "execution_count": null,
   "metadata": {},
   "outputs": [],
   "source": [
    "#Based on the high r-squared value Temperature and Latitude are related for the Northern Hemisphere."
   ]
  },
  {
   "cell_type": "markdown",
   "metadata": {},
   "source": [
    "####  Southern Hemisphere - Max Temp vs. Latitude Linear Regression"
   ]
  },
  {
   "cell_type": "code",
   "execution_count": 18,
   "metadata": {
    "scrolled": true
   },
   "outputs": [
    {
     "name": "stdout",
     "output_type": "stream",
     "text": [
      "The r-squared is: 0.5560668760678068\n"
     ]
    },
    {
     "data": {
      "image/png": "[encoded data removed]",
      "text/plain": [
       "<Figure size 432x288 with 1 Axes>"
      ]
     },
     "metadata": {
      "needs_background": "light"
     },
     "output_type": "display_data"
    }
   ],
   "source": [
    "# Southern Hemisphere - Max Temp vs. Latitude Linear Regression\n",
    "x_values = southern_hemisphere[\"Lat\"].astype(float)\n",
    "y_values = southern_hemisphere[\"Max Temp\"].astype(float)\n",
    "(slope, intercept, rvalue, pvalue, stderr) = linregress(x_values, y_values)\n",
    "regress_values = x_values * slope + intercept\n",
    "line_eq = \"y = \" + str(round(slope,2)) + \"x + \" + str(round(intercept,2))\n",
    "plt.scatter(x_values,y_values)\n",
    "plt.plot(x_values,regress_values,\"r-\")\n",
    "plt.annotate(line_eq,(-30,50),fontsize=15,color=\"red\")\n",
    "plt.xlabel(\"Latitude\")\n",
    "plt.ylabel(\"Max Temp (F)\")\n",
    "plt.title(\"Southern Hemisphere - Max Temp vs. Latitude Linear Regression\")\n",
    "print(f\"The r-squared is: {rvalue**2}\")\n",
    "#plt.show()\n",
    "\n",
    "# Save the figure\n",
    "plt.savefig(\"../Images/Southern Hemisphere - Max Temp vs. Latitude Linear Regression.png\")"
   ]
  },
  {
   "cell_type": "code",
   "execution_count": null,
   "metadata": {},
   "outputs": [],
   "source": [
    "#The r-squared value for Temperature and Latitude are acceptable but not as strong as the Northern Hemisphere."
   ]
  },
  {
   "cell_type": "markdown",
   "metadata": {},
   "source": [
    "####  Northern Hemisphere - Humidity (%) vs. Latitude Linear Regression"
   ]
  },
  {
   "cell_type": "code",
   "execution_count": 21,
   "metadata": {
    "scrolled": true
   },
   "outputs": [
    {
     "name": "stdout",
     "output_type": "stream",
     "text": [
      "The r-squared is: 0.1280514239500452\n"
     ]
    },
    {
     "data": {
      "image/png": "[encoded data removed]",
      "text/plain": [
       "<Figure size 432x288 with 1 Axes>"
      ]
     },
     "metadata": {
      "needs_background": "light"
     },
     "output_type": "display_data"
    }
   ],
   "source": [
    "# Northern Hemisphere - Humidity vs. Latitude Linear Regression\n",
    "x_values = northern_hemisphere[\"Lat\"].astype(float)\n",
    "y_values = northern_hemisphere[\"Humidity\"].astype(float)\n",
    "(slope, intercept, rvalue, pvalue, stderr) = linregress(x_values, y_values)\n",
    "regress_values = x_values * slope + intercept\n",
    "line_eq = \"y = \" + str(round(slope,2)) + \"x + \" + str(round(intercept,2))\n",
    "plt.scatter(x_values,y_values)\n",
    "plt.plot(x_values,regress_values,\"r-\")\n",
    "plt.annotate(line_eq,(45,50),fontsize=15,color=\"red\")\n",
    "plt.xlabel(\"Latitude\")\n",
    "plt.ylabel(\"Humidity (%)\")\n",
    "plt.title(\"Northern Hemisphere - Humidity (%) vs. Latitude Linear Regression\")\n",
    "print(f\"The r-squared is: {rvalue**2}\")\n",
    "#plt.show()\n",
    "\n",
    "# Save the figure\n",
    "plt.savefig(\"../Images/Northern Hemisphere - Humidity (%) vs. Latitude Linear Regression.png\")"
   ]
  },
  {
   "cell_type": "code",
   "execution_count": null,
   "metadata": {},
   "outputs": [],
   "source": [
    "#This plot shows there is not a strong relation between Latitude and Humidity in the Northern Hemisphere."
   ]
  },
  {
   "cell_type": "markdown",
   "metadata": {},
   "source": [
    "####  Southern Hemisphere - Humidity (%) vs. Latitude Linear Regression"
   ]
  },
  {
   "cell_type": "code",
   "execution_count": 23,
   "metadata": {
    "scrolled": true
   },
   "outputs": [
    {
     "name": "stdout",
     "output_type": "stream",
     "text": [
      "The r-squared is: 0.005672497041682032\n"
     ]
    },
    {
     "data": {
      "image/png": "[encoded data removed]",
      "text/plain": [
       "<Figure size 432x288 with 1 Axes>"
      ]
     },
     "metadata": {
      "needs_background": "light"
     },
     "output_type": "display_data"
    }
   ],
   "source": [
    "# Southern Hemisphere - Humidity vs. Latitude Linear Regression\n",
    "x_values = southern_hemisphere[\"Lat\"].astype(float)\n",
    "y_values = southern_hemisphere[\"Humidity\"].astype(float)\n",
    "(slope, intercept, rvalue, pvalue, stderr) = linregress(x_values, y_values)\n",
    "regress_values = x_values * slope + intercept\n",
    "line_eq = \"y = \" + str(round(slope,2)) + \"x + \" + str(round(intercept,2))\n",
    "plt.scatter(x_values,y_values)\n",
    "plt.plot(x_values,regress_values,\"r-\")\n",
    "plt.annotate(line_eq,(-40,50),fontsize=15,color=\"red\")\n",
    "plt.xlabel(\"Latitude\")\n",
    "plt.ylabel(\"Humidity (%)\")\n",
    "plt.title(\"Southern Hemisphere - Humidity (%) vs. Latitude Linear Regression\")\n",
    "print(f\"The r-squared is: {rvalue**2}\")\n",
    "#plt.show()\n",
    "\n",
    "# Save the figure\n",
    "plt.savefig(\"../Images/Southern Hemisphere - Humidity (%) vs. Latitude Linear Regression.png\")"
   ]
  },
  {
   "cell_type": "code",
   "execution_count": null,
   "metadata": {},
   "outputs": [],
   "source": [
    "#This plot is ever more sparce than the Northern Hemisphere and shows no strong relation between Latitude and Humidity."
   ]
  },
  {
   "cell_type": "markdown",
   "metadata": {},
   "source": [
    "####  Northern Hemisphere - Cloudiness (%) vs. Latitude Linear Regression"
   ]
  },
  {
   "cell_type": "code",
   "execution_count": 21,
   "metadata": {
    "scrolled": false
   },
   "outputs": [
    {
     "name": "stdout",
     "output_type": "stream",
     "text": [
      "The r-squared is: 0.020276104091778394\n"
     ]
    },
    {
     "data": {
      "image/png": "[encoded data removed]",
      "text/plain": [
       "<Figure size 432x288 with 1 Axes>"
      ]
     },
     "metadata": {
      "needs_background": "light"
     },
     "output_type": "display_data"
    }
   ],
   "source": [
    "# Northern Hemisphere - Cloudiness vs. Latitude Linear Regression\n",
    "x_values = northern_hemisphere[\"Lat\"].astype(float)\n",
    "y_values = northern_hemisphere[\"Cloudiness\"].astype(float)\n",
    "(slope, intercept, rvalue, pvalue, stderr) = linregress(x_values, y_values)\n",
    "regress_values = x_values * slope + intercept\n",
    "line_eq = \"y = \" + str(round(slope,2)) + \"x + \" + str(round(intercept,2))\n",
    "plt.scatter(x_values,y_values)\n",
    "plt.plot(x_values,regress_values,\"r-\")\n",
    "plt.annotate(line_eq,(15,62),fontsize=15,color=\"red\")\n",
    "plt.xlabel(\"Latitude\")\n",
    "plt.ylabel(\"Cloudiness (%)\")\n",
    "plt.title(\"Northern Hemisphere - Cloudiness (%) vs. Latitude Linear Regression\")\n",
    "print(f\"The r-squared is: {rvalue**2}\")\n",
    "#plt.show()\n",
    "\n",
    "# Save the figure\n",
    "plt.savefig(\"../Images/Northern Hemisphere - Cloudiness (%) vs. Latitude Linear Regression.png\")"
   ]
  },
  {
   "cell_type": "code",
   "execution_count": null,
   "metadata": {},
   "outputs": [],
   "source": [
    "#There is not strong connection between Latitude and Cloudiness."
   ]
  },
  {
   "cell_type": "markdown",
   "metadata": {},
   "source": [
    "####  Southern Hemisphere - Cloudiness (%) vs. Latitude Linear Regression"
   ]
  },
  {
   "cell_type": "code",
   "execution_count": 22,
   "metadata": {
    "scrolled": false
   },
   "outputs": [
    {
     "name": "stdout",
     "output_type": "stream",
     "text": [
      "The r-squared is: 0.0030400301561282184\n"
     ]
    },
    {
     "data": {
      "image/png": "[encoded data removed]",
      "text/plain": [
       "<Figure size 432x288 with 1 Axes>"
      ]
     },
     "metadata": {
      "needs_background": "light"
     },
     "output_type": "display_data"
    }
   ],
   "source": [
    "# Southern Hemisphere - Cloudiness vs. Latitude Linear Regression\n",
    "x_values = southern_hemisphere[\"Lat\"].astype(float)\n",
    "y_values = southern_hemisphere[\"Cloudiness\"].astype(float)\n",
    "(slope, intercept, rvalue, pvalue, stderr) = linregress(x_values, y_values)\n",
    "regress_values = x_values * slope + intercept\n",
    "line_eq = \"y = \" + str(round(slope,2)) + \"x + \" + str(round(intercept,2))\n",
    "plt.scatter(x_values,y_values)\n",
    "plt.plot(x_values,regress_values,\"r-\")\n",
    "plt.annotate(line_eq,(-45,25),fontsize=15,color=\"red\")\n",
    "plt.xlabel(\"Latitude\")\n",
    "plt.ylabel(\"Cloudiness (%)\")\n",
    "plt.title(\"Southern Hemisphere - Cloudiness (%) vs. Latitude Linear Regression\")\n",
    "print(f\"The r-squared is: {rvalue**2}\")\n",
    "#plt.show()\n",
    "\n",
    "# Save the figure\n",
    "plt.savefig(\"../Images/Southern Hemisphere - Cloudiness (%) vs. Latitude Linear Regression.png\")"
   ]
  },
  {
   "cell_type": "code",
   "execution_count": null,
   "metadata": {},
   "outputs": [],
   "source": [
    "#This plot is even further spread out than the Northen Hemisphere and has no strong connection between Latitude and Cloudiness."
   ]
  },
  {
   "cell_type": "markdown",
   "metadata": {},
   "source": [
    "####  Northern Hemisphere - Wind Speed (mph) vs. Latitude Linear Regression"
   ]
  },
  {
   "cell_type": "code",
   "execution_count": 24,
   "metadata": {},
   "outputs": [
    {
     "name": "stdout",
     "output_type": "stream",
     "text": [
      "The r-squared is: 5.762008668023229e-05\n"
     ]
    },
    {
     "data": {
      "image/png": "[encoded data removed]",
      "text/plain": [
       "<Figure size 432x288 with 1 Axes>"
      ]
     },
     "metadata": {
      "needs_background": "light"
     },
     "output_type": "display_data"
    }
   ],
   "source": [
    "# Northern Hemisphere - Wind Speed vs. Latitude Linear Regression\n",
    "x_values = northern_hemisphere[\"Lat\"].astype(float)\n",
    "y_values = northern_hemisphere[\"Windspeed\"].astype(float)\n",
    "(slope, intercept, rvalue, pvalue, stderr) = linregress(x_values, y_values)\n",
    "regress_values = x_values * slope + intercept\n",
    "line_eq = \"y = \" + str(round(slope,2)) + \"x + \" + str(round(intercept,2))\n",
    "plt.scatter(x_values,y_values)\n",
    "plt.plot(x_values,regress_values,\"r-\")\n",
    "plt.annotate(line_eq,(10,15),fontsize=15,color=\"red\")\n",
    "plt.xlabel(\"Latitude\")\n",
    "plt.ylabel(\"Wind Speed (mph)\")\n",
    "plt.title(\"Northern Hemisphere - Wind Speed (mph) vs. Latitude Linear Regression\")\n",
    "print(f\"The r-squared is: {rvalue**2}\")\n",
    "#plt.show()\n",
    "\n",
    "# Save the figure\n",
    "plt.savefig(\"../Images/Northern Hemisphere - Wind Speed (mph) vs. Latitude Linear Regression.png\")"
   ]
  },
  {
   "cell_type": "code",
   "execution_count": null,
   "metadata": {},
   "outputs": [],
   "source": [
    "#This plot shows a relation between Latitude and Wind Speed in the Northern Hemisphere."
   ]
  },
  {
   "cell_type": "markdown",
   "metadata": {},
   "source": [
    "####  Southern Hemisphere - Wind Speed (mph) vs. Latitude Linear Regression"
   ]
  },
  {
   "cell_type": "code",
   "execution_count": 27,
   "metadata": {},
   "outputs": [
    {
     "name": "stdout",
     "output_type": "stream",
     "text": [
      "The r-squared is: 0.03276729244075031\n"
     ]
    },
    {
     "data": {
      "image/png": "[encoded data removed]",
      "text/plain": [
       "<Figure size 432x288 with 1 Axes>"
      ]
     },
     "metadata": {
      "needs_background": "light"
     },
     "output_type": "display_data"
    }
   ],
   "source": [
    "# Southern Hemisphere - Wind Speed vs. Latitude Linear Regression\n",
    "x_values = southern_hemisphere[\"Lat\"].astype(float)\n",
    "y_values = southern_hemisphere[\"Windspeed\"].astype(float)\n",
    "(slope, intercept, rvalue, pvalue, stderr) = linregress(x_values, y_values)\n",
    "regress_values = x_values * slope + intercept\n",
    "line_eq = \"y = \" + str(round(slope,2)) + \"x + \" + str(round(intercept,2))\n",
    "plt.scatter(x_values,y_values)\n",
    "plt.plot(x_values,regress_values,\"r-\")\n",
    "plt.annotate(line_eq,(-45,22),fontsize=15,color=\"red\")\n",
    "plt.xlabel(\"Latitude\")\n",
    "plt.ylabel(\"Wind Speed (mph)\")\n",
    "plt.title(\"Southern Hemisphere - Wind Speed (mph) vs. Latitude Linear Regression\")\n",
    "print(f\"The r-squared is: {rvalue**2}\")\n",
    "#plt.show()\n",
    "\n",
    "# Save the figure\n",
    "plt.savefig(\"../Images/Southern Hemisphere - Wind Speed (mph) vs. Latitude Linear Regression.png\")"
   ]
  },
  {
   "cell_type": "code",
   "execution_count": null,
   "metadata": {},
   "outputs": [],
   "source": [
    "#The Southern Hemisphere shows less of a correlation between Latitude and Wind Speed in the Southern Hemisphere."
   ]
  }
 ],
 "metadata": {
  "anaconda-cloud": {},
  "kernel_info": {
   "name": "python3"
  },
  "kernelspec": {
   "display_name": "Python 3",
   "language": "python",
   "name": "python3"
  },
  "language_info": {
   "codemirror_mode": {
    "name": "ipython",
    "version": 3
   },
   "file_extension": ".py",
   "mimetype": "text/x-python",
   "name": "python",
   "nbconvert_exporter": "python",
   "pygments_lexer": "ipython3",
   "version": "3.6.10"
  },
  "latex_envs": {
   "LaTeX_envs_menu_present": true,
   "autoclose": false,
   "autocomplete": true,
   "bibliofile": "biblio.bib",
   "cite_by": "apalike",
   "current_citInitial": 1,
   "eqLabelWithNumbers": true,
   "eqNumInitial": 1,
   "hotkeys": {
    "equation": "Ctrl-E",
    "itemize": "Ctrl-I"
   },
   "labels_anchors": false,
   "latex_user_defs": false,
   "report_style_numbering": false,
   "user_envs_cfg": false
  },
  "nteract": {
   "version": "0.12.3"
  }
 },
 "nbformat": 4,
 "nbformat_minor": 2
}
